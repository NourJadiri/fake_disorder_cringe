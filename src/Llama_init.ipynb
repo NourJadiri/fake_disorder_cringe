{
 "cells": [
  {
   "cell_type": "markdown",
   "metadata": {},
   "source": [
    "### LLAMA model \n",
    "- Classify the seriousness of the subredits\n",
    "- Classify the reddit post  \n"
   ]
  },
  {
   "cell_type": "code",
   "execution_count": null,
   "metadata": {},
   "outputs": [],
   "source": [
    "%pip install torch torchvision torchaudio\n",
    "%pip install transformers\n",
    "# Make sure you have Hugging Face account and token for accessing LLaMA models\n",
    "%pip install huggingface_hub"
   ]
  },
  {
   "cell_type": "code",
   "execution_count": 3,
   "metadata": {},
   "outputs": [
    {
     "data": {
      "text/plain": [
       "('./Llama-3.2-1B/tokenizer_config.json',\n",
       " './Llama-3.2-1B/special_tokens_map.json',\n",
       " './Llama-3.2-1B/tokenizer.json')"
      ]
     },
     "execution_count": 3,
     "metadata": {},
     "output_type": "execute_result"
    }
   ],
   "source": [
    "from transformers import AutoModel, AutoTokenizer\n",
    "\n",
    "# Specify the model repository\n",
    "model_name = \"meta-llama/Llama-3.2-1B\"\n",
    "\n",
    "# Download the tokenizer and model\n",
    "tokenizer = AutoTokenizer.from_pretrained(model_name)\n",
    "model = AutoModel.from_pretrained(model_name, local_files_only=False)\n",
    "\n",
    "# Save locally if needed\n",
    "model.save_pretrained(\"./Llama-3.2-1B\")\n",
    "tokenizer.save_pretrained(\"./Llama-3.2-1B\")"
   ]
  },
  {
   "cell_type": "code",
   "execution_count": 11,
   "metadata": {},
   "outputs": [
    {
     "name": "stdout",
     "output_type": "stream",
     "text": [
      "Answer the following question with a single word: yes or no.\n",
      "Question: Is Paris the Capital of Spain?\n"
     ]
    }
   ],
   "source": [
    "from transformers import AutoModelForCausalLM, AutoTokenizer\n",
    "\n",
    "# Load the tokenizer and model (already saved locally)\n",
    "tokenizer = AutoTokenizer.from_pretrained(\"./Llama-3.2-1B\")\n",
    "model = AutoModelForCausalLM.from_pretrained(\"./Llama-3.2-1B\")\n",
    "\n",
    "# Set pad token ID to eos token ID if pad token ID is not set\n",
    "if tokenizer.pad_token_id is None:\n",
    "    tokenizer.pad_token_id = tokenizer.eos_token_id\n",
    "\n",
    "# Test the model\n",
    "input_text = (\n",
    "    \"Answer the following question with a single word: yes or no.\\n\"\n",
    "    \"Question: Is Paris the Capital of Spain?\"\n",
    ")\n",
    "input_ids = tokenizer.encode(input_text, return_tensors=\"pt\")\n",
    "\n",
    "# Create attention mask\n",
    "attention_mask = input_ids.ne(tokenizer.pad_token_id).long()\n",
    "\n",
    "# Generate a response\n",
    "output = model.generate(input_ids, attention_mask=attention_mask, max_length=50, pad_token_id=tokenizer.eos_token_id)\n",
    "response = tokenizer.decode(output[0], skip_special_tokens=True)\n",
    "print(response)"
   ]
  },
  {
   "cell_type": "code",
   "execution_count": null,
   "metadata": {},
   "outputs": [],
   "source": []
  },
  {
   "cell_type": "markdown",
   "metadata": {},
   "source": [
    "#### Connect to Mongdb"
   ]
  },
  {
   "cell_type": "code",
   "execution_count": 1,
   "metadata": {},
   "outputs": [
    {
     "name": "stdout",
     "output_type": "stream",
     "text": [
      "Connected to MongoDB successfully!\n"
     ]
    }
   ],
   "source": [
    "from dotenv import load_dotenv\n",
    "from pymongo import MongoClient\n",
    "\n",
    "# Load environment variables from .env file\n",
    "load_dotenv()\n",
    "mongo='127.0.0.1'\n",
    "\n",
    "try:\n",
    "    # Connect to MongoDB\n",
    "    myclient = MongoClient(\n",
    "                        \"mongodb://\"+mongo+\":27017/\",  \n",
    "                        username='admin',\n",
    "                        password='admin') #Mongo URI format\n",
    "    db=myclient['reddit']\n",
    "    print(\"Connected to MongoDB successfully!\")\n",
    "except Exception as e:\n",
    "    print(\"An error occurred while connecting to MongoDB:\", e)"
   ]
  },
  {
   "cell_type": "code",
   "execution_count": 2,
   "metadata": {},
   "outputs": [
    {
     "data": {
      "text/html": [
       "<div>\n",
       "<style scoped>\n",
       "    .dataframe tbody tr th:only-of-type {\n",
       "        vertical-align: middle;\n",
       "    }\n",
       "\n",
       "    .dataframe tbody tr th {\n",
       "        vertical-align: top;\n",
       "    }\n",
       "\n",
       "    .dataframe thead th {\n",
       "        text-align: right;\n",
       "    }\n",
       "</style>\n",
       "<table border=\"1\" class=\"dataframe\">\n",
       "  <thead>\n",
       "    <tr style=\"text-align: right;\">\n",
       "      <th></th>\n",
       "      <th>id</th>\n",
       "      <th>title</th>\n",
       "      <th>author</th>\n",
       "      <th>score</th>\n",
       "      <th>num_comments</th>\n",
       "      <th>upvote_ratio</th>\n",
       "      <th>url</th>\n",
       "      <th>subreddit</th>\n",
       "      <th>created_at</th>\n",
       "      <th>self_text</th>\n",
       "      <th>searchQuery</th>\n",
       "    </tr>\n",
       "  </thead>\n",
       "  <tbody>\n",
       "    <tr>\n",
       "      <th>0</th>\n",
       "      <td>1et3kj0</td>\n",
       "      <td>Diagnosed with Inattentive ADHD at 31. Explain...</td>\n",
       "      <td>amadnomad</td>\n",
       "      <td>392</td>\n",
       "      <td>107</td>\n",
       "      <td>0.98</td>\n",
       "      <td>https://www.reddit.com/r/ADHD/comments/1et3kj0...</td>\n",
       "      <td>ADHD</td>\n",
       "      <td>1.723749e+09</td>\n",
       "      <td>Please go out and get tested if you are still ...</td>\n",
       "      <td>adhd</td>\n",
       "    </tr>\n",
       "    <tr>\n",
       "      <th>1</th>\n",
       "      <td>1gk5ftv</td>\n",
       "      <td>Children with higher IQ scores were diagnosed ...</td>\n",
       "      <td>Pretend_Voice_3140</td>\n",
       "      <td>4499</td>\n",
       "      <td>466</td>\n",
       "      <td>0.99</td>\n",
       "      <td>https://www.reddit.com/r/ADHD/comments/1gk5ftv...</td>\n",
       "      <td>ADHD</td>\n",
       "      <td>1.730809e+09</td>\n",
       "      <td>A study was published in the [British Journal ...</td>\n",
       "      <td>adhd</td>\n",
       "    </tr>\n",
       "    <tr>\n",
       "      <th>2</th>\n",
       "      <td>1f0k9en</td>\n",
       "      <td>Reminder: If you made it to adulthood with lat...</td>\n",
       "      <td>Hipster-Deuxbag</td>\n",
       "      <td>7372</td>\n",
       "      <td>535</td>\n",
       "      <td>0.99</td>\n",
       "      <td>https://www.reddit.com/r/ADHD/comments/1f0k9en...</td>\n",
       "      <td>ADHD</td>\n",
       "      <td>1.724547e+09</td>\n",
       "      <td>We all know the statistics: 20,000 behavioral ...</td>\n",
       "      <td>adhd</td>\n",
       "    </tr>\n",
       "    <tr>\n",
       "      <th>3</th>\n",
       "      <td>1g7tbb2</td>\n",
       "      <td>What is the most adhd thing you have ever adhd’ed</td>\n",
       "      <td>FamiliarRadio9275</td>\n",
       "      <td>2102</td>\n",
       "      <td>1022</td>\n",
       "      <td>0.99</td>\n",
       "      <td>https://www.reddit.com/r/ADHD/comments/1g7tbb2...</td>\n",
       "      <td>ADHD</td>\n",
       "      <td>1.729409e+09</td>\n",
       "      <td>I laugh so hard when I look back at this memor...</td>\n",
       "      <td>adhd</td>\n",
       "    </tr>\n",
       "    <tr>\n",
       "      <th>4</th>\n",
       "      <td>1dy8uqs</td>\n",
       "      <td>I’m angry that no one recognized that I had AD...</td>\n",
       "      <td>thecynicalone26</td>\n",
       "      <td>3345</td>\n",
       "      <td>598</td>\n",
       "      <td>0.99</td>\n",
       "      <td>https://www.reddit.com/r/ADHD/comments/1dy8uqs...</td>\n",
       "      <td>ADHD</td>\n",
       "      <td>1.720445e+09</td>\n",
       "      <td>I just got diagnosed, and I’m 39.  My entire l...</td>\n",
       "      <td>adhd</td>\n",
       "    </tr>\n",
       "  </tbody>\n",
       "</table>\n",
       "</div>"
      ],
      "text/plain": [
       "        id                                              title  \\\n",
       "0  1et3kj0  Diagnosed with Inattentive ADHD at 31. Explain...   \n",
       "1  1gk5ftv  Children with higher IQ scores were diagnosed ...   \n",
       "2  1f0k9en  Reminder: If you made it to adulthood with lat...   \n",
       "3  1g7tbb2  What is the most adhd thing you have ever adhd’ed   \n",
       "4  1dy8uqs  I’m angry that no one recognized that I had AD...   \n",
       "\n",
       "               author  score  num_comments  upvote_ratio  \\\n",
       "0           amadnomad    392           107          0.98   \n",
       "1  Pretend_Voice_3140   4499           466          0.99   \n",
       "2     Hipster-Deuxbag   7372           535          0.99   \n",
       "3   FamiliarRadio9275   2102          1022          0.99   \n",
       "4     thecynicalone26   3345           598          0.99   \n",
       "\n",
       "                                                 url subreddit    created_at  \\\n",
       "0  https://www.reddit.com/r/ADHD/comments/1et3kj0...      ADHD  1.723749e+09   \n",
       "1  https://www.reddit.com/r/ADHD/comments/1gk5ftv...      ADHD  1.730809e+09   \n",
       "2  https://www.reddit.com/r/ADHD/comments/1f0k9en...      ADHD  1.724547e+09   \n",
       "3  https://www.reddit.com/r/ADHD/comments/1g7tbb2...      ADHD  1.729409e+09   \n",
       "4  https://www.reddit.com/r/ADHD/comments/1dy8uqs...      ADHD  1.720445e+09   \n",
       "\n",
       "                                           self_text searchQuery  \n",
       "0  Please go out and get tested if you are still ...        adhd  \n",
       "1  A study was published in the [British Journal ...        adhd  \n",
       "2  We all know the statistics: 20,000 behavioral ...        adhd  \n",
       "3  I laugh so hard when I look back at this memor...        adhd  \n",
       "4  I just got diagnosed, and I’m 39.  My entire l...        adhd  "
      ]
     },
     "execution_count": 2,
     "metadata": {},
     "output_type": "execute_result"
    }
   ],
   "source": [
    "#import\n",
    "import pandas as pd\n",
    "posts_registered=[]\n",
    "query=db.reddit_posts.find({},{'_id':0})\n",
    "for el in query:\n",
    "    posts_registered.append(el)\n",
    "posts_registered_df=pd.DataFrame(posts_registered)\n",
    "posts_registered_df.head()"
   ]
  },
  {
   "cell_type": "code",
   "execution_count": 3,
   "metadata": {},
   "outputs": [
    {
     "name": "stdout",
     "output_type": "stream",
     "text": [
      "Diagnosed with Inattentive ADHD at 31. Explains so many things from my childhood.\n",
      "Please go out and get tested if you are still on the fence. I always assumed ADHD was only hyperactive. A lot of concerns about day dreaming, zoning out and inattentiveness came into play during my consult. I didn't even consider my lack of sleep being tied to ADHD. But now that I have a diagnoses, it explains quite a bit from my past. I wasn't just lazy and disorganized. \n",
      "\n",
      "  \n",
      "Again, please go get tested if you suspect anything.\n"
     ]
    }
   ],
   "source": [
    "print(posts_registered_df.iloc[0]['title'])\n",
    "print(posts_registered_df.iloc[0]['self_text'])\n",
    "title_to_test=posts_registered_df.iloc[0]['title']\n",
    "text_to_test=posts_registered_df.iloc[0]['self_text']"
   ]
  },
  {
   "cell_type": "code",
   "execution_count": 4,
   "metadata": {},
   "outputs": [
    {
     "name": "stderr",
     "output_type": "stream",
     "text": [
      "/home/ysidhom/Documents/5IF/adhd_project/mental_health_disorders_analysis/.venv/lib/python3.12/site-packages/transformers/generation/configuration_utils.py:590: UserWarning: `do_sample` is set to `False`. However, `temperature` is set to `0.7` -- this flag is only used in sample-based generation modes. You should set `do_sample=True` or unset `temperature`.\n",
      "  warnings.warn(\n",
      "/home/ysidhom/Documents/5IF/adhd_project/mental_health_disorders_analysis/.venv/lib/python3.12/site-packages/transformers/generation/configuration_utils.py:595: UserWarning: `do_sample` is set to `False`. However, `top_p` is set to `0.9` -- this flag is only used in sample-based generation modes. You should set `do_sample=True` or unset `top_p`.\n",
      "  warnings.warn(\n"
     ]
    },
    {
     "name": "stdout",
     "output_type": "stream",
     "text": [
      "Can you help me with this question? Please analyze the following and provide insights:\n",
      "Title: Diagnosed with Inattentive ADHD at 31. Explains so many things from my childhood.\n",
      "Text: Please go out and get tested if you are still on the fence. I always assumed ADHD was only hyperactive. A lot of concerns about day dreaming, zoning out and inattentiveness came into play during my consult. I didn't even consider my lack of sleep being tied to ADHD. But now that I have a diagnoses, it explains quite a bit from my past. I wasn't just lazy and disorganized. \n",
      "\n",
      "  \n",
      "Again, please go get tested if you suspect anything.\n",
      "\n",
      "Provide an insightful and concise analysis below:\n",
      "\n"
     ]
    }
   ],
   "source": [
    "from transformers import AutoModelForCausalLM, AutoTokenizer\n",
    "\n",
    "# Load the tokenizer and model (already saved locally)\n",
    "tokenizer = AutoTokenizer.from_pretrained(\"./Llama-3.2-1B\")\n",
    "model = AutoModelForCausalLM.from_pretrained(\"./Llama-3.2-1B\")\n",
    "\n",
    "# Set pad token ID to eos token ID if pad token ID is not set\n",
    "if tokenizer.pad_token_id is None:\n",
    "    tokenizer.pad_token_id = tokenizer.eos_token_id\n",
    "\n",
    "# Test the model\n",
    "input_text = f\"\"\"Can you help me with this question? Please analyze the following and provide insights:\n",
    "Title: {title_to_test}\n",
    "Text: {text_to_test}\n",
    "\n",
    "Provide an insightful and concise analysis below:\n",
    "\"\"\"\n",
    "\n",
    "input_ids = tokenizer.encode(input_text, return_tensors=\"pt\")\n",
    "\n",
    "# Create attention mask\n",
    "attention_mask = input_ids.ne(tokenizer.pad_token_id).long()\n",
    "\n",
    "# Generate a response\n",
    "output = model.generate(\n",
    "    input_ids,\n",
    "    attention_mask=attention_mask,\n",
    "    max_length=200,  # Length of the response\n",
    "    temperature=0.7,  # Balance between random and deterministic\n",
    "    top_p=0.9,        # Focus on top 90% of likely tokens\n",
    "    pad_token_id=tokenizer.eos_token_id\n",
    ")\n",
    "response = tokenizer.decode(output[0], skip_special_tokens=True)\n",
    "print(response)"
   ]
  }
 ],
 "metadata": {
  "kernelspec": {
   "display_name": ".venv",
   "language": "python",
   "name": "python3"
  },
  "language_info": {
   "codemirror_mode": {
    "name": "ipython",
    "version": 3
   },
   "file_extension": ".py",
   "mimetype": "text/x-python",
   "name": "python",
   "nbconvert_exporter": "python",
   "pygments_lexer": "ipython3",
   "version": "3.12.3"
  }
 },
 "nbformat": 4,
 "nbformat_minor": 2
}
