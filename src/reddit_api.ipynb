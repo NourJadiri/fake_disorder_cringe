{
 "cells": [
  {
   "cell_type": "markdown",
   "metadata": {},
   "source": [
    "## Reddit API\n",
    "- In the following document we will try to extract reddit post:\n",
    "    - As a first approach we will collect data marked by keyboards relatedt to adhd found in related subreddits\n",
    "    - To improve our model we can modify our model to identify by it's own (using old data for example) the subreddits that could be intereesting \n",
    "    to scrap."
   ]
  },
  {
   "cell_type": "code",
   "execution_count": 24,
   "metadata": {},
   "outputs": [
    {
     "name": "stdout",
     "output_type": "stream",
     "text": [
      "Connected! Logged in as: ProfessorMiddle1326\n"
     ]
    }
   ],
   "source": [
    "import os\n",
    "\n",
    "from dotenv import load_dotenv\n",
    "import praw\n",
    "\n",
    "# Load environment variables from .env file\n",
    "load_dotenv()\n",
    "\n",
    "try:\n",
    "    reddit = praw.Reddit(\n",
    "        client_id=os.getenv(\"REDDIT_CLIENT_ID\"),\n",
    "        client_secret=os.getenv(\"REDDIT_CLIENT_SECRET\"),\n",
    "        user_agent=os.getenv(\"REDDIT_USER_AGENT\"),\n",
    "        username=os.getenv(\"REDDIT_USERNAME\"),\n",
    "        password=os.getenv(\"REDDIT_PASSWORD\")\n",
    "    )\n",
    "    print(f\"Connected! Logged in as: {reddit.user.me()}\")\n",
    "except Exception as e:\n",
    "    print(\"An error occurred:\", e)"
   ]
  },
  {
   "cell_type": "code",
   "execution_count": 27,
   "metadata": {},
   "outputs": [
    {
     "name": "stdout",
     "output_type": "stream",
     "text": [
      "Zeplio\n"
     ]
    }
   ],
   "source": [
    "# Subreddit to target\n",
    "subreddit_name = \"ADHD\"\n",
    "subreddit = reddit.subreddit(subreddit_name)\n",
    "\n",
    "# Fetch posts\n",
    "posts = []\n",
    "for post in subreddit.hot(limit=100):  # 'hot', 'new', or 'top' posts\n",
    "    posts.append({\n",
    "        \"title\": post.title,\n",
    "        \"text\": post.selftext,\n",
    "        \"id\": post.id,\n",
    "        \"score\": post.score,\n",
    "        \"num_comments\": post.num_comments,\n",
    "        \"created_utc\": post.created_utc,\n",
    "        \"author\": str(post.author)\n",
    "    })\n",
    "\n",
    "# Print sample post\n",
    "print(posts[50]['author'])\n"
   ]
  },
  {
   "cell_type": "code",
   "execution_count": 45,
   "metadata": {},
   "outputs": [
    {
     "name": "stdout",
     "output_type": "stream",
     "text": [
      "Subreddits related to 'ADHD':\n"
     ]
    }
   ],
   "source": [
    "# Search for subreddits related to ADHD\n",
    "import pandas as pd\n",
    "\n",
    "keywords = ['ADHD']\n",
    "results = []\n",
    "\n",
    "for keyword in keywords:\n",
    "    related_subreddits = reddit.subreddits.search(keyword, limit=100)\n",
    "    print(f\"Subreddits related to '{keyword}':\")\n",
    "    for subreddit in related_subreddits:\n",
    "        results.append({'name': subreddit.display_name, 'subscribers': subreddit.subscribers})\n",
    "        \n",
    "df = pd.DataFrame(results).sort_values(by='subscribers', ascending=False)\n",
    "            "
   ]
  },
  {
   "cell_type": "code",
   "execution_count": 40,
   "metadata": {},
   "outputs": [
    {
     "name": "stdout",
     "output_type": "stream",
     "text": [
      "             name  subscribers\n",
      "20      AskReddit   49195288.0\n",
      "59          memes   34906278.0\n",
      "36        science   33138755.0\n",
      "71  AmItheAsshole   22098456.0\n",
      "44      Parenting    7720757.0\n",
      "67     psychology    4076116.0\n",
      "55     Meditation    3126777.0\n",
      "31      teenagers    3079780.0\n",
      "0            ADHD    1954893.0\n",
      "4        adhdmeme     689717.0\n"
     ]
    }
   ],
   "source": [
    "print(df.head(10))"
   ]
  },
  {
   "cell_type": "code",
   "execution_count": 53,
   "metadata": {},
   "outputs": [
    {
     "name": "stdout",
     "output_type": "stream",
     "text": [
      "Recommendations based on ['adhdmeme']:\n",
      "- adhdmeme: ADHD memes (Subscribers: 689717)\n",
      "  - Be nice\n",
      "  - ADHD is real\n",
      "  - No discussion of policies of other subreddits\n",
      "  - No AI generated content\n",
      "  - Spam/advertising\n",
      "\n",
      "\n",
      "- ADHDmemes: ADHD Memes (Subscribers: 141479)\n",
      "  - Post must be an ADHD meme\n",
      "  - No bigotry\n",
      "  - Keep It Civil\n",
      "  - Post Quality Memes\n",
      "  - No ads\n",
      "  - No trolling\n",
      "  - No medical advice\n",
      "\n",
      "\n",
      "- aspiememes: aspie memes (Subscribers: 244364)\n",
      "  - Temporary post type bans or restrictions\n",
      "  - Be respectful.\n",
      "  - No racism, sexism, transphobia, ableism, or other bigotry. This includes using the R* slur.\n",
      "  - We are an autistic space - autistic voices are protected\n",
      "  - No debating terminology\n",
      "  - Violent rhetoric or content\n",
      "  - Do not invalidate gender\n",
      "  - Only post relevant autism-related content.\n",
      "  - Do not promote Autism Speaks or ABA\n",
      "  - Do not spread misinformation\n",
      "  - No posting test results from online autism quizzes\n",
      "  - No advertising or Surveys\n",
      "\n",
      "\n",
      "- adhdwomen: ADHD Women (Subscribers: 380146)\n",
      "  - In order to post or comment here, you must not identify primarily as a cisgender man.\n",
      "  - Posts and comments must involve ADHD.\n",
      "  - Do not disparage other users' symptoms & treatment or encourage illegal and/or improper use of drugs\n",
      "  - Do not advertise products or solicit research participants.\n",
      "  - Discussions must be civil and criticism must be useful and constructive.\n",
      "  - This forum isn't a substitute for professional medical/mental health advice, treatment, or diagnosis\n",
      "  - Discussions on self-harm, suicide, and/or acute/serious medical/mental health crises aren't allowed\n",
      "  - This forum will not facilitate requests for legal, insurance, or procedural advice.\n",
      "  - Posts about NSFW topics (like sex and libido) must be flaired NSFW or are subject to removal\n",
      "  - Please do not crosspost to other communities\n",
      "\n",
      "\n",
      "- AdviceAnimals: Advice Animals (Subscribers: 9948836)\n",
      "  - Follow all Reddit sitewide rules.\n",
      "  - All posts must be Advice Animals\n",
      "  - Bigotry is not welcome on this subreddit\n",
      "  - Don't tell people they should hurt or kill themselves, or that they should be dead\n",
      "  - Only submit original content you created today\n",
      "  - Don't post to tell us about your cake day, and don't pander for upvotes or awards\n",
      "  - Don't post Unpopular Opinion Puffins or Vertical memes\n",
      "  - Don't post memes picturing someone you know in real life (including yourself)\n",
      "  - Link directly to your image\n",
      "  - Don't post COVID or anti-vax misinformation\n",
      "  - We reserve the right to remove posts, remove comments, and ban users at our own discretion.\n",
      "\n",
      "\n",
      "- HousekeepingHacks: Like A Boss (Subscribers: 2047)\n",
      "\n",
      "\n",
      "- JustUnsubbed: JustUnsubbed: ᴛʜᴇ ʟᴀꜱᴛ ꜱᴛʀᴀᴡ (Subscribers: 236026)\n",
      "  - Provide Enough Context\n",
      "  - Don't Brigade\n",
      "  - Don't Submit Posts That Are Low Quality, Jokes, Or Off-Topic\n",
      "  - No 'r/' In The Title, Only The Subreddit Name\n",
      "  - No Harassment Towards Anyone\n",
      "  - No Posts About Unsubbing From r/JustUnsubbed\n",
      "  - No Posts About Being Banned\n",
      "  - Don't Provide Confidential Information\n",
      "  - No Posts About Blacklisted Subs\n",
      "  - No Chain Posts\n",
      "\n",
      "\n",
      "- EDanonymemes: EDanonymemes (Subscribers: 130780)\n",
      "  - No Harmful Advice\n",
      "  - No Pro-ED or Anti-Recovery Content\n",
      "  - Only Post Relevant Memes\n",
      "  - No Bigotry\n",
      "  - No Drama\n",
      "  - The Numbers Rule\n",
      "  - Do Not Give or Seek Serious Medical Advice\n",
      "  - Moderator Discretion\n",
      "\n",
      "\n",
      "- SpecialInterestEx: Special Interest Exchange (Subscribers: 114)\n",
      "\n",
      "\n",
      "- legweed3: All hail noonches! (Subscribers: 34)\n",
      "\n",
      "\n"
     ]
    }
   ],
   "source": [
    "# Provide a list of known subreddits\n",
    "base_subreddits = [\"adhdmeme\"]\n",
    "\n",
    "# Fetch recommended subreddits\n",
    "recommended=reddit.subreddits.search(base_subreddits, limit=10)\n",
    "\n",
    "# Display recommended subreddits\n",
    "print(f\"Recommendations based on {base_subreddits}:\")\n",
    "for subreddit in recommended:\n",
    "    print(f\"- {subreddit.display_name}: {subreddit.title} (Subscribers: {subreddit.subscribers})\")\n",
    "    for rule in subreddit.rules:\n",
    "        print(f\"  - {rule}\")\n",
    "    \n",
    "    print(\"\\n\")\n",
    "          \n",
    "        \n",
    "          \n",
    "          "
   ]
  }
 ],
 "metadata": {
  "kernelspec": {
   "display_name": ".venv",
   "language": "python",
   "name": "python3"
  },
  "language_info": {
   "codemirror_mode": {
    "name": "ipython",
    "version": 3
   },
   "file_extension": ".py",
   "mimetype": "text/x-python",
   "name": "python",
   "nbconvert_exporter": "python",
   "pygments_lexer": "ipython3",
   "version": "3.12.3"
  }
 },
 "nbformat": 4,
 "nbformat_minor": 2
}
