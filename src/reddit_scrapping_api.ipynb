{
 "cells": [
  {
   "cell_type": "markdown",
   "metadata": {},
   "source": [
    "## Reddit API\n",
    "- In the following document we will try to extract reddit post:\n",
    "    - As a first approach we will collect data marked by keyboards relatedt to adhd found in related subreddits\n",
    "    - To improve our model we can modify our model to identify by it's own (using old data for example) the subreddits that could be intereesting \n",
    "    to scrap.\n",
    "\n",
    "\n",
    "    General composition of a post:\n",
    "    -  id: The post’s ID\n",
    "    -  title: The post’s title\n",
    "    -  text: The post’s text\n",
    "    -  author: The post’s author\n",
    "    -  created_utc: The post’s creation time in UTC\n",
    "    -  score: The post’s score\n",
    "    -  num_comments: The number of comments on the post\n",
    "    -  permalink: The post’s permalink"
   ]
  },
  {
   "cell_type": "markdown",
   "metadata": {},
   "source": [
    "## Connections\n"
   ]
  },
  {
   "cell_type": "code",
   "execution_count": null,
   "metadata": {},
   "outputs": [],
   "source": [
    "import os\n",
    "from dotenv import load_dotenv\n",
    "import praw"
   ]
  },
  {
   "cell_type": "markdown",
   "metadata": {},
   "source": [
    "#### Connection to the Reddit APi"
   ]
  },
  {
   "cell_type": "code",
   "execution_count": null,
   "metadata": {},
   "outputs": [],
   "source": [
    "\n",
    "# Load environment variables from .env file\n",
    "load_dotenv()\n",
    "\n",
    "try:\n",
    "    reddit = praw.Reddit(\n",
    "        client_id=os.getenv(\"REDDIT_CLIENT_ID\"),\n",
    "        client_secret=os.getenv(\"REDDIT_CLIENT_SECRET\"),\n",
    "        user_agent=os.getenv(\"REDDIT_USER_AGENT\"),\n",
    "        username=os.getenv(\"REDDIT_USERNAME\"),\n",
    "        password=os.getenv(\"REDDIT_PASSWORD\")\n",
    "    )\n",
    "    print(f\"Connected! Logged in as: {reddit.user.me()}\")\n",
    "except Exception as e:\n",
    "    print(\"An error occurred:\", e)"
   ]
  },
  {
   "cell_type": "markdown",
   "metadata": {},
   "source": [
    "#### Connect to Mongdb"
   ]
  },
  {
   "cell_type": "code",
   "execution_count": 3,
   "metadata": {},
   "outputs": [
    {
     "name": "stdout",
     "output_type": "stream",
     "text": [
      "Connected to MongoDB successfully!\n"
     ]
    }
   ],
   "source": [
    "from pymongo import MongoClient\n",
    "\n",
    "# Load environment variables from .env file\n",
    "load_dotenv()\n",
    "mongo='127.0.0.1'\n",
    "\n",
    "try:\n",
    "    # Connect to MongoDB\n",
    "    myclient = MongoClient(\n",
    "                        \"mongodb://\"+mongo+\":27017/\",  \n",
    "                        username='admin',\n",
    "                        password='admin') #Mongo URI format\n",
    "    db=myclient['reddit']\n",
    "    print(\"Connected to MongoDB successfully!\")\n",
    "except Exception as e:\n",
    "    print(\"An error occurred while connecting to MongoDB:\", e)"
   ]
  },
  {
   "cell_type": "markdown",
   "metadata": {},
   "source": [
    " #### Connect to reddis\n",
    " "
   ]
  },
  {
   "cell_type": "code",
   "execution_count": 21,
   "metadata": {},
   "outputs": [],
   "source": [
    "import redis\n",
    "\n",
    "r = redis.Redis(host='127.0.0.1', port=6379, db=0)"
   ]
  },
  {
   "cell_type": "markdown",
   "metadata": {},
   "source": [
    "## Scrap Data Using Research on reddit"
   ]
  },
  {
   "cell_type": "markdown",
   "metadata": {},
   "source": [
    "#### Scrapp usging the search bar in reddit (search using the keywords):\n",
    "- Define the keywords for research \n",
    "[\"adhd\", \"diagnose\",\"energy\", \"brain\", \"test\", \"distracted\", \"forgetful\", \"doctor\",\"work\",\"task\",\"disord\",\"struggl\",\"focu\",\"dysfunct\",\"forgot\",\"lazi\",\"prescrib\",\"medic\",\"medicin\",\"pill\",\"self diagnosis\",\"self medication\"]\n",
    "- Different sorting technics [\"relevance\", \"hot\", \"top\", \"new\", \"comments\"]\n"
   ]
  },
  {
   "cell_type": "code",
   "execution_count": null,
   "metadata": {},
   "outputs": [],
   "source": [
    "Querykeywords=[\"adhd\", \"diagnose\",\"energy\", \"brain\", \"test\", \"distracted\", \"forgetful\", \"doctor\"\n",
    "                  ,\"work\",\"task\",\"disord\",\"struggl\",\"focu\",\"dysfunct\",\"forgot\",\"lazi\",\"prescrib\",\"medic\",\"medicin\",\"pill\",\"self diagnosis\",\"self medication\"]\n",
    "sortingTechniques=[\"relevance\", \"hot\", \"top\", \"new\", \"comments\"]\n"
   ]
  },
  {
   "cell_type": "code",
   "execution_count": null,
   "metadata": {},
   "outputs": [
    {
     "name": "stdout",
     "output_type": "stream",
     "text": [
      "Searching for keyword: self diagnosis using sorting technique: relevance\n"
     ]
    },
    {
     "name": "stderr",
     "output_type": "stream",
     "text": [
      "/tmp/ipykernel_35745/3794372055.py:14: DeprecationWarning: datetime.datetime.utcfromtimestamp() is deprecated and scheduled for removal in a future version. Use timezone-aware objects to represent datetimes in UTC: datetime.datetime.fromtimestamp(timestamp, datetime.UTC).\n",
      "  utc_time = datetime.datetime.utcfromtimestamp(timestamp)\n"
     ]
    },
    {
     "name": "stdout",
     "output_type": "stream",
     "text": [
      "Searching for keyword: self diagnosis using sorting technique: hot\n",
      "Searching for keyword: self diagnosis using sorting technique: top\n",
      "Searching for keyword: self diagnosis using sorting technique: new\n",
      "Searching for keyword: self diagnosis using sorting technique: comments\n",
      "Searching for keyword: self medication using sorting technique: relevance\n",
      "Searching for keyword: self medication using sorting technique: hot\n",
      "Searching for keyword: self medication using sorting technique: top\n",
      "Searching for keyword: self medication using sorting technique: new\n",
      "Searching for keyword: self medication using sorting technique: comments\n"
     ]
    },
    {
     "data": {
      "text/plain": [
       "InsertManyResult([ObjectId('674df915845d7125c2d2c32f'), ObjectId('674df915845d7125c2d2c330'), ObjectId('674df915845d7125c2d2c331'), ObjectId('674df915845d7125c2d2c332'), ObjectId('674df915845d7125c2d2c333'), ObjectId('674df915845d7125c2d2c334'), ObjectId('674df915845d7125c2d2c335'), ObjectId('674df915845d7125c2d2c336'), ObjectId('674df915845d7125c2d2c337'), ObjectId('674df915845d7125c2d2c338'), ObjectId('674df915845d7125c2d2c339'), ObjectId('674df915845d7125c2d2c33a'), ObjectId('674df915845d7125c2d2c33b'), ObjectId('674df915845d7125c2d2c33c'), ObjectId('674df915845d7125c2d2c33d'), ObjectId('674df915845d7125c2d2c33e'), ObjectId('674df915845d7125c2d2c33f'), ObjectId('674df915845d7125c2d2c340'), ObjectId('674df915845d7125c2d2c341'), ObjectId('674df915845d7125c2d2c342'), ObjectId('674df915845d7125c2d2c343'), ObjectId('674df915845d7125c2d2c344'), ObjectId('674df915845d7125c2d2c345'), ObjectId('674df915845d7125c2d2c346'), ObjectId('674df915845d7125c2d2c347'), ObjectId('674df915845d7125c2d2c348'), ObjectId('674df915845d7125c2d2c349'), ObjectId('674df915845d7125c2d2c34a'), ObjectId('674df915845d7125c2d2c34b'), ObjectId('674df915845d7125c2d2c34c'), ObjectId('674df915845d7125c2d2c34d'), ObjectId('674df915845d7125c2d2c34e'), ObjectId('674df915845d7125c2d2c34f'), ObjectId('674df915845d7125c2d2c350'), ObjectId('674df915845d7125c2d2c351'), ObjectId('674df915845d7125c2d2c352'), ObjectId('674df915845d7125c2d2c353'), ObjectId('674df915845d7125c2d2c354'), ObjectId('674df915845d7125c2d2c355'), ObjectId('674df915845d7125c2d2c356'), ObjectId('674df915845d7125c2d2c357'), ObjectId('674df915845d7125c2d2c358'), ObjectId('674df915845d7125c2d2c359'), ObjectId('674df915845d7125c2d2c35a'), ObjectId('674df915845d7125c2d2c35b'), ObjectId('674df915845d7125c2d2c35c'), ObjectId('674df915845d7125c2d2c35d'), ObjectId('674df915845d7125c2d2c35e'), ObjectId('674df915845d7125c2d2c35f'), ObjectId('674df915845d7125c2d2c360'), ObjectId('674df915845d7125c2d2c361'), ObjectId('674df915845d7125c2d2c362'), ObjectId('674df915845d7125c2d2c363'), ObjectId('674df915845d7125c2d2c364'), ObjectId('674df915845d7125c2d2c365'), ObjectId('674df915845d7125c2d2c366'), ObjectId('674df915845d7125c2d2c367'), ObjectId('674df915845d7125c2d2c368'), ObjectId('674df915845d7125c2d2c369'), ObjectId('674df915845d7125c2d2c36a'), ObjectId('674df915845d7125c2d2c36b'), ObjectId('674df915845d7125c2d2c36c'), ObjectId('674df915845d7125c2d2c36d'), ObjectId('674df915845d7125c2d2c36e'), ObjectId('674df915845d7125c2d2c36f'), ObjectId('674df915845d7125c2d2c370'), ObjectId('674df915845d7125c2d2c371'), ObjectId('674df915845d7125c2d2c372'), ObjectId('674df915845d7125c2d2c373'), ObjectId('674df915845d7125c2d2c374'), ObjectId('674df915845d7125c2d2c375'), ObjectId('674df915845d7125c2d2c376'), ObjectId('674df915845d7125c2d2c377'), ObjectId('674df915845d7125c2d2c378'), ObjectId('674df915845d7125c2d2c379'), ObjectId('674df915845d7125c2d2c37a'), ObjectId('674df915845d7125c2d2c37b'), ObjectId('674df915845d7125c2d2c37c'), ObjectId('674df915845d7125c2d2c37d'), ObjectId('674df915845d7125c2d2c37e'), ObjectId('674df915845d7125c2d2c37f'), ObjectId('674df915845d7125c2d2c380'), ObjectId('674df915845d7125c2d2c381'), ObjectId('674df915845d7125c2d2c382'), ObjectId('674df915845d7125c2d2c383'), ObjectId('674df915845d7125c2d2c384'), ObjectId('674df915845d7125c2d2c385'), ObjectId('674df915845d7125c2d2c386'), ObjectId('674df915845d7125c2d2c387'), ObjectId('674df915845d7125c2d2c388'), ObjectId('674df915845d7125c2d2c389'), ObjectId('674df915845d7125c2d2c38a'), ObjectId('674df915845d7125c2d2c38b'), ObjectId('674df915845d7125c2d2c38c'), ObjectId('674df915845d7125c2d2c38d'), ObjectId('674df915845d7125c2d2c38e'), ObjectId('674df915845d7125c2d2c38f'), ObjectId('674df915845d7125c2d2c390'), ObjectId('674df915845d7125c2d2c391'), ObjectId('674df915845d7125c2d2c392'), ObjectId('674df915845d7125c2d2c393'), ObjectId('674df915845d7125c2d2c394'), ObjectId('674df915845d7125c2d2c395'), ObjectId('674df915845d7125c2d2c396'), ObjectId('674df915845d7125c2d2c397'), ObjectId('674df915845d7125c2d2c398'), ObjectId('674df915845d7125c2d2c399'), ObjectId('674df915845d7125c2d2c39a'), ObjectId('674df915845d7125c2d2c39b'), ObjectId('674df915845d7125c2d2c39c'), ObjectId('674df915845d7125c2d2c39d'), ObjectId('674df915845d7125c2d2c39e'), ObjectId('674df915845d7125c2d2c39f'), ObjectId('674df915845d7125c2d2c3a0'), ObjectId('674df915845d7125c2d2c3a1'), ObjectId('674df915845d7125c2d2c3a2'), ObjectId('674df915845d7125c2d2c3a3'), ObjectId('674df915845d7125c2d2c3a4'), ObjectId('674df915845d7125c2d2c3a5'), ObjectId('674df915845d7125c2d2c3a6'), ObjectId('674df915845d7125c2d2c3a7'), ObjectId('674df915845d7125c2d2c3a8'), ObjectId('674df915845d7125c2d2c3a9'), ObjectId('674df915845d7125c2d2c3aa'), ObjectId('674df915845d7125c2d2c3ab'), ObjectId('674df915845d7125c2d2c3ac'), ObjectId('674df915845d7125c2d2c3ad'), ObjectId('674df915845d7125c2d2c3ae'), ObjectId('674df915845d7125c2d2c3af'), ObjectId('674df915845d7125c2d2c3b0'), ObjectId('674df915845d7125c2d2c3b1'), ObjectId('674df915845d7125c2d2c3b2'), ObjectId('674df915845d7125c2d2c3b3'), ObjectId('674df915845d7125c2d2c3b4'), ObjectId('674df915845d7125c2d2c3b5'), ObjectId('674df915845d7125c2d2c3b6'), ObjectId('674df915845d7125c2d2c3b7'), ObjectId('674df915845d7125c2d2c3b8'), ObjectId('674df915845d7125c2d2c3b9'), ObjectId('674df915845d7125c2d2c3ba'), ObjectId('674df915845d7125c2d2c3bb'), ObjectId('674df915845d7125c2d2c3bc'), ObjectId('674df915845d7125c2d2c3bd'), ObjectId('674df915845d7125c2d2c3be'), ObjectId('674df915845d7125c2d2c3bf'), ObjectId('674df915845d7125c2d2c3c0'), ObjectId('674df915845d7125c2d2c3c1'), ObjectId('674df915845d7125c2d2c3c2'), ObjectId('674df915845d7125c2d2c3c3'), ObjectId('674df915845d7125c2d2c3c4'), ObjectId('674df915845d7125c2d2c3c5'), ObjectId('674df915845d7125c2d2c3c6'), ObjectId('674df915845d7125c2d2c3c7'), ObjectId('674df915845d7125c2d2c3c8'), ObjectId('674df915845d7125c2d2c3c9'), ObjectId('674df915845d7125c2d2c3ca'), ObjectId('674df915845d7125c2d2c3cb'), ObjectId('674df915845d7125c2d2c3cc'), ObjectId('674df915845d7125c2d2c3cd'), ObjectId('674df915845d7125c2d2c3ce'), ObjectId('674df915845d7125c2d2c3cf'), ObjectId('674df915845d7125c2d2c3d0'), ObjectId('674df915845d7125c2d2c3d1'), ObjectId('674df915845d7125c2d2c3d2'), ObjectId('674df915845d7125c2d2c3d3'), ObjectId('674df915845d7125c2d2c3d4'), ObjectId('674df915845d7125c2d2c3d5'), ObjectId('674df915845d7125c2d2c3d6'), ObjectId('674df915845d7125c2d2c3d7'), ObjectId('674df915845d7125c2d2c3d8'), ObjectId('674df915845d7125c2d2c3d9'), ObjectId('674df915845d7125c2d2c3da'), ObjectId('674df915845d7125c2d2c3db'), ObjectId('674df915845d7125c2d2c3dc'), ObjectId('674df915845d7125c2d2c3dd'), ObjectId('674df915845d7125c2d2c3de'), ObjectId('674df915845d7125c2d2c3df'), ObjectId('674df915845d7125c2d2c3e0'), ObjectId('674df915845d7125c2d2c3e1'), ObjectId('674df915845d7125c2d2c3e2'), ObjectId('674df915845d7125c2d2c3e3'), ObjectId('674df915845d7125c2d2c3e4'), ObjectId('674df915845d7125c2d2c3e5'), ObjectId('674df915845d7125c2d2c3e6'), ObjectId('674df915845d7125c2d2c3e7'), ObjectId('674df915845d7125c2d2c3e8'), ObjectId('674df915845d7125c2d2c3e9'), ObjectId('674df915845d7125c2d2c3ea'), ObjectId('674df915845d7125c2d2c3eb'), ObjectId('674df915845d7125c2d2c3ec'), ObjectId('674df915845d7125c2d2c3ed'), ObjectId('674df915845d7125c2d2c3ee'), ObjectId('674df915845d7125c2d2c3ef'), ObjectId('674df915845d7125c2d2c3f0'), ObjectId('674df915845d7125c2d2c3f1'), ObjectId('674df915845d7125c2d2c3f2'), ObjectId('674df915845d7125c2d2c3f3'), ObjectId('674df915845d7125c2d2c3f4'), ObjectId('674df915845d7125c2d2c3f5'), ObjectId('674df915845d7125c2d2c3f6'), ObjectId('674df915845d7125c2d2c3f7'), ObjectId('674df915845d7125c2d2c3f8'), ObjectId('674df915845d7125c2d2c3f9'), ObjectId('674df915845d7125c2d2c3fa'), ObjectId('674df915845d7125c2d2c3fb'), ObjectId('674df915845d7125c2d2c3fc'), ObjectId('674df915845d7125c2d2c3fd'), ObjectId('674df915845d7125c2d2c3fe'), ObjectId('674df915845d7125c2d2c3ff'), ObjectId('674df915845d7125c2d2c400'), ObjectId('674df915845d7125c2d2c401'), ObjectId('674df915845d7125c2d2c402'), ObjectId('674df915845d7125c2d2c403'), ObjectId('674df915845d7125c2d2c404'), ObjectId('674df915845d7125c2d2c405'), ObjectId('674df915845d7125c2d2c406'), ObjectId('674df915845d7125c2d2c407'), ObjectId('674df915845d7125c2d2c408'), ObjectId('674df915845d7125c2d2c409'), ObjectId('674df915845d7125c2d2c40a'), ObjectId('674df915845d7125c2d2c40b'), ObjectId('674df915845d7125c2d2c40c'), ObjectId('674df915845d7125c2d2c40d'), ObjectId('674df915845d7125c2d2c40e'), ObjectId('674df915845d7125c2d2c40f'), ObjectId('674df915845d7125c2d2c410'), ObjectId('674df915845d7125c2d2c411'), ObjectId('674df915845d7125c2d2c412'), ObjectId('674df915845d7125c2d2c413'), ObjectId('674df915845d7125c2d2c414'), ObjectId('674df915845d7125c2d2c415'), ObjectId('674df915845d7125c2d2c416'), ObjectId('674df915845d7125c2d2c417'), ObjectId('674df915845d7125c2d2c418'), ObjectId('674df915845d7125c2d2c419'), ObjectId('674df915845d7125c2d2c41a'), ObjectId('674df915845d7125c2d2c41b'), ObjectId('674df915845d7125c2d2c41c'), ObjectId('674df915845d7125c2d2c41d'), ObjectId('674df915845d7125c2d2c41e'), ObjectId('674df915845d7125c2d2c41f'), ObjectId('674df915845d7125c2d2c420'), ObjectId('674df915845d7125c2d2c421'), ObjectId('674df915845d7125c2d2c422'), ObjectId('674df915845d7125c2d2c423'), ObjectId('674df915845d7125c2d2c424'), ObjectId('674df915845d7125c2d2c425'), ObjectId('674df915845d7125c2d2c426'), ObjectId('674df915845d7125c2d2c427'), ObjectId('674df915845d7125c2d2c428'), ObjectId('674df915845d7125c2d2c429'), ObjectId('674df915845d7125c2d2c42a'), ObjectId('674df915845d7125c2d2c42b'), ObjectId('674df915845d7125c2d2c42c'), ObjectId('674df915845d7125c2d2c42d'), ObjectId('674df915845d7125c2d2c42e'), ObjectId('674df915845d7125c2d2c42f'), ObjectId('674df915845d7125c2d2c430'), ObjectId('674df915845d7125c2d2c431'), ObjectId('674df915845d7125c2d2c432'), ObjectId('674df915845d7125c2d2c433'), ObjectId('674df915845d7125c2d2c434'), ObjectId('674df915845d7125c2d2c435'), ObjectId('674df915845d7125c2d2c436'), ObjectId('674df915845d7125c2d2c437'), ObjectId('674df915845d7125c2d2c438'), ObjectId('674df915845d7125c2d2c439'), ObjectId('674df915845d7125c2d2c43a'), ObjectId('674df915845d7125c2d2c43b'), ObjectId('674df915845d7125c2d2c43c'), ObjectId('674df915845d7125c2d2c43d'), ObjectId('674df915845d7125c2d2c43e'), ObjectId('674df915845d7125c2d2c43f'), ObjectId('674df915845d7125c2d2c440'), ObjectId('674df915845d7125c2d2c441'), ObjectId('674df915845d7125c2d2c442'), ObjectId('674df915845d7125c2d2c443'), ObjectId('674df915845d7125c2d2c444'), ObjectId('674df915845d7125c2d2c445'), ObjectId('674df915845d7125c2d2c446'), ObjectId('674df915845d7125c2d2c447'), ObjectId('674df915845d7125c2d2c448'), ObjectId('674df915845d7125c2d2c449'), ObjectId('674df915845d7125c2d2c44a'), ObjectId('674df915845d7125c2d2c44b'), ObjectId('674df915845d7125c2d2c44c'), ObjectId('674df915845d7125c2d2c44d'), ObjectId('674df915845d7125c2d2c44e'), ObjectId('674df915845d7125c2d2c44f'), ObjectId('674df915845d7125c2d2c450'), ObjectId('674df915845d7125c2d2c451'), ObjectId('674df915845d7125c2d2c452'), ObjectId('674df915845d7125c2d2c453'), ObjectId('674df915845d7125c2d2c454'), ObjectId('674df915845d7125c2d2c455'), ObjectId('674df915845d7125c2d2c456'), ObjectId('674df915845d7125c2d2c457'), ObjectId('674df915845d7125c2d2c458'), ObjectId('674df915845d7125c2d2c459'), ObjectId('674df915845d7125c2d2c45a'), ObjectId('674df915845d7125c2d2c45b'), ObjectId('674df915845d7125c2d2c45c'), ObjectId('674df915845d7125c2d2c45d'), ObjectId('674df915845d7125c2d2c45e'), ObjectId('674df915845d7125c2d2c45f'), ObjectId('674df915845d7125c2d2c460'), ObjectId('674df915845d7125c2d2c461'), ObjectId('674df915845d7125c2d2c462'), ObjectId('674df915845d7125c2d2c463'), ObjectId('674df915845d7125c2d2c464'), ObjectId('674df915845d7125c2d2c465'), ObjectId('674df915845d7125c2d2c466'), ObjectId('674df915845d7125c2d2c467'), ObjectId('674df915845d7125c2d2c468'), ObjectId('674df915845d7125c2d2c469'), ObjectId('674df915845d7125c2d2c46a'), ObjectId('674df915845d7125c2d2c46b'), ObjectId('674df915845d7125c2d2c46c'), ObjectId('674df915845d7125c2d2c46d'), ObjectId('674df915845d7125c2d2c46e'), ObjectId('674df915845d7125c2d2c46f'), ObjectId('674df915845d7125c2d2c470'), ObjectId('674df915845d7125c2d2c471'), ObjectId('674df915845d7125c2d2c472'), ObjectId('674df915845d7125c2d2c473'), ObjectId('674df915845d7125c2d2c474'), ObjectId('674df915845d7125c2d2c475'), ObjectId('674df915845d7125c2d2c476'), ObjectId('674df915845d7125c2d2c477'), ObjectId('674df915845d7125c2d2c478'), ObjectId('674df915845d7125c2d2c479'), ObjectId('674df915845d7125c2d2c47a'), ObjectId('674df915845d7125c2d2c47b'), ObjectId('674df915845d7125c2d2c47c'), ObjectId('674df915845d7125c2d2c47d'), ObjectId('674df915845d7125c2d2c47e'), ObjectId('674df915845d7125c2d2c47f'), ObjectId('674df915845d7125c2d2c480'), ObjectId('674df915845d7125c2d2c481'), ObjectId('674df915845d7125c2d2c482'), ObjectId('674df915845d7125c2d2c483'), ObjectId('674df915845d7125c2d2c484'), ObjectId('674df915845d7125c2d2c485'), ObjectId('674df915845d7125c2d2c486'), ObjectId('674df915845d7125c2d2c487'), ObjectId('674df915845d7125c2d2c488'), ObjectId('674df915845d7125c2d2c489'), ObjectId('674df915845d7125c2d2c48a'), ObjectId('674df915845d7125c2d2c48b'), ObjectId('674df915845d7125c2d2c48c'), ObjectId('674df915845d7125c2d2c48d'), ObjectId('674df915845d7125c2d2c48e'), ObjectId('674df915845d7125c2d2c48f'), ObjectId('674df915845d7125c2d2c490'), ObjectId('674df915845d7125c2d2c491'), ObjectId('674df915845d7125c2d2c492'), ObjectId('674df915845d7125c2d2c493'), ObjectId('674df915845d7125c2d2c494'), ObjectId('674df915845d7125c2d2c495'), ObjectId('674df915845d7125c2d2c496'), ObjectId('674df915845d7125c2d2c497'), ObjectId('674df915845d7125c2d2c498'), ObjectId('674df915845d7125c2d2c499'), ObjectId('674df915845d7125c2d2c49a'), ObjectId('674df915845d7125c2d2c49b'), ObjectId('674df915845d7125c2d2c49c'), ObjectId('674df915845d7125c2d2c49d'), ObjectId('674df915845d7125c2d2c49e'), ObjectId('674df915845d7125c2d2c49f'), ObjectId('674df915845d7125c2d2c4a0'), ObjectId('674df915845d7125c2d2c4a1'), ObjectId('674df915845d7125c2d2c4a2'), ObjectId('674df915845d7125c2d2c4a3'), ObjectId('674df915845d7125c2d2c4a4'), ObjectId('674df915845d7125c2d2c4a5'), ObjectId('674df915845d7125c2d2c4a6'), ObjectId('674df915845d7125c2d2c4a7'), ObjectId('674df915845d7125c2d2c4a8'), ObjectId('674df915845d7125c2d2c4a9'), ObjectId('674df915845d7125c2d2c4aa'), ObjectId('674df915845d7125c2d2c4ab'), ObjectId('674df915845d7125c2d2c4ac'), ObjectId('674df915845d7125c2d2c4ad'), ObjectId('674df915845d7125c2d2c4ae'), ObjectId('674df915845d7125c2d2c4af'), ObjectId('674df915845d7125c2d2c4b0'), ObjectId('674df915845d7125c2d2c4b1'), ObjectId('674df915845d7125c2d2c4b2'), ObjectId('674df915845d7125c2d2c4b3'), ObjectId('674df915845d7125c2d2c4b4'), ObjectId('674df915845d7125c2d2c4b5'), ObjectId('674df915845d7125c2d2c4b6'), ObjectId('674df915845d7125c2d2c4b7'), ObjectId('674df915845d7125c2d2c4b8'), ObjectId('674df915845d7125c2d2c4b9'), ObjectId('674df915845d7125c2d2c4ba'), ObjectId('674df915845d7125c2d2c4bb'), ObjectId('674df915845d7125c2d2c4bc'), ObjectId('674df915845d7125c2d2c4bd'), ObjectId('674df915845d7125c2d2c4be'), ObjectId('674df915845d7125c2d2c4bf'), ObjectId('674df915845d7125c2d2c4c0'), ObjectId('674df915845d7125c2d2c4c1'), ObjectId('674df915845d7125c2d2c4c2'), ObjectId('674df915845d7125c2d2c4c3'), ObjectId('674df915845d7125c2d2c4c4'), ObjectId('674df915845d7125c2d2c4c5'), ObjectId('674df915845d7125c2d2c4c6'), ObjectId('674df915845d7125c2d2c4c7'), ObjectId('674df915845d7125c2d2c4c8'), ObjectId('674df915845d7125c2d2c4c9'), ObjectId('674df915845d7125c2d2c4ca'), ObjectId('674df915845d7125c2d2c4cb'), ObjectId('674df915845d7125c2d2c4cc'), ObjectId('674df915845d7125c2d2c4cd'), ObjectId('674df915845d7125c2d2c4ce'), ObjectId('674df915845d7125c2d2c4cf'), ObjectId('674df915845d7125c2d2c4d0'), ObjectId('674df915845d7125c2d2c4d1'), ObjectId('674df915845d7125c2d2c4d2'), ObjectId('674df915845d7125c2d2c4d3'), ObjectId('674df915845d7125c2d2c4d4'), ObjectId('674df915845d7125c2d2c4d5'), ObjectId('674df915845d7125c2d2c4d6'), ObjectId('674df915845d7125c2d2c4d7'), ObjectId('674df915845d7125c2d2c4d8'), ObjectId('674df915845d7125c2d2c4d9'), ObjectId('674df915845d7125c2d2c4da'), ObjectId('674df915845d7125c2d2c4db'), ObjectId('674df915845d7125c2d2c4dc'), ObjectId('674df915845d7125c2d2c4dd'), ObjectId('674df915845d7125c2d2c4de'), ObjectId('674df915845d7125c2d2c4df'), ObjectId('674df915845d7125c2d2c4e0'), ObjectId('674df915845d7125c2d2c4e1'), ObjectId('674df915845d7125c2d2c4e2'), ObjectId('674df915845d7125c2d2c4e3'), ObjectId('674df915845d7125c2d2c4e4'), ObjectId('674df915845d7125c2d2c4e5'), ObjectId('674df915845d7125c2d2c4e6'), ObjectId('674df915845d7125c2d2c4e7'), ObjectId('674df915845d7125c2d2c4e8'), ObjectId('674df915845d7125c2d2c4e9'), ObjectId('674df915845d7125c2d2c4ea'), ObjectId('674df915845d7125c2d2c4eb'), ObjectId('674df915845d7125c2d2c4ec'), ObjectId('674df915845d7125c2d2c4ed'), ObjectId('674df915845d7125c2d2c4ee'), ObjectId('674df915845d7125c2d2c4ef'), ObjectId('674df915845d7125c2d2c4f0'), ObjectId('674df915845d7125c2d2c4f1'), ObjectId('674df915845d7125c2d2c4f2'), ObjectId('674df915845d7125c2d2c4f3'), ObjectId('674df915845d7125c2d2c4f4'), ObjectId('674df915845d7125c2d2c4f5'), ObjectId('674df915845d7125c2d2c4f6'), ObjectId('674df915845d7125c2d2c4f7'), ObjectId('674df915845d7125c2d2c4f8'), ObjectId('674df915845d7125c2d2c4f9'), ObjectId('674df915845d7125c2d2c4fa'), ObjectId('674df915845d7125c2d2c4fb'), ObjectId('674df915845d7125c2d2c4fc'), ObjectId('674df915845d7125c2d2c4fd'), ObjectId('674df915845d7125c2d2c4fe'), ObjectId('674df915845d7125c2d2c4ff'), ObjectId('674df915845d7125c2d2c500'), ObjectId('674df915845d7125c2d2c501'), ObjectId('674df915845d7125c2d2c502'), ObjectId('674df915845d7125c2d2c503'), ObjectId('674df915845d7125c2d2c504'), ObjectId('674df915845d7125c2d2c505'), ObjectId('674df915845d7125c2d2c506'), ObjectId('674df915845d7125c2d2c507'), ObjectId('674df915845d7125c2d2c508'), ObjectId('674df915845d7125c2d2c509'), ObjectId('674df915845d7125c2d2c50a'), ObjectId('674df915845d7125c2d2c50b'), ObjectId('674df915845d7125c2d2c50c'), ObjectId('674df915845d7125c2d2c50d'), ObjectId('674df915845d7125c2d2c50e'), ObjectId('674df915845d7125c2d2c50f'), ObjectId('674df915845d7125c2d2c510'), ObjectId('674df915845d7125c2d2c511'), ObjectId('674df915845d7125c2d2c512'), ObjectId('674df915845d7125c2d2c513'), ObjectId('674df915845d7125c2d2c514'), ObjectId('674df915845d7125c2d2c515'), ObjectId('674df915845d7125c2d2c516'), ObjectId('674df915845d7125c2d2c517'), ObjectId('674df915845d7125c2d2c518'), ObjectId('674df915845d7125c2d2c519'), ObjectId('674df915845d7125c2d2c51a'), ObjectId('674df915845d7125c2d2c51b'), ObjectId('674df915845d7125c2d2c51c'), ObjectId('674df915845d7125c2d2c51d'), ObjectId('674df915845d7125c2d2c51e'), ObjectId('674df915845d7125c2d2c51f'), ObjectId('674df915845d7125c2d2c520'), ObjectId('674df915845d7125c2d2c521'), ObjectId('674df915845d7125c2d2c522'), ObjectId('674df915845d7125c2d2c523'), ObjectId('674df915845d7125c2d2c524'), ObjectId('674df915845d7125c2d2c525'), ObjectId('674df915845d7125c2d2c526'), ObjectId('674df915845d7125c2d2c527'), ObjectId('674df915845d7125c2d2c528'), ObjectId('674df915845d7125c2d2c529'), ObjectId('674df915845d7125c2d2c52a'), ObjectId('674df915845d7125c2d2c52b'), ObjectId('674df915845d7125c2d2c52c'), ObjectId('674df915845d7125c2d2c52d'), ObjectId('674df915845d7125c2d2c52e'), ObjectId('674df915845d7125c2d2c52f'), ObjectId('674df915845d7125c2d2c530'), ObjectId('674df915845d7125c2d2c531'), ObjectId('674df915845d7125c2d2c532'), ObjectId('674df915845d7125c2d2c533'), ObjectId('674df915845d7125c2d2c534'), ObjectId('674df915845d7125c2d2c535'), ObjectId('674df915845d7125c2d2c536'), ObjectId('674df915845d7125c2d2c537'), ObjectId('674df915845d7125c2d2c538'), ObjectId('674df915845d7125c2d2c539'), ObjectId('674df915845d7125c2d2c53a'), ObjectId('674df915845d7125c2d2c53b'), ObjectId('674df915845d7125c2d2c53c'), ObjectId('674df915845d7125c2d2c53d'), ObjectId('674df915845d7125c2d2c53e'), ObjectId('674df915845d7125c2d2c53f'), ObjectId('674df915845d7125c2d2c540'), ObjectId('674df915845d7125c2d2c541'), ObjectId('674df915845d7125c2d2c542'), ObjectId('674df915845d7125c2d2c543'), ObjectId('674df915845d7125c2d2c544'), ObjectId('674df915845d7125c2d2c545'), ObjectId('674df915845d7125c2d2c546'), ObjectId('674df915845d7125c2d2c547'), ObjectId('674df915845d7125c2d2c548'), ObjectId('674df915845d7125c2d2c549'), ObjectId('674df915845d7125c2d2c54a'), ObjectId('674df915845d7125c2d2c54b'), ObjectId('674df915845d7125c2d2c54c'), ObjectId('674df915845d7125c2d2c54d'), ObjectId('674df915845d7125c2d2c54e'), ObjectId('674df915845d7125c2d2c54f'), ObjectId('674df915845d7125c2d2c550'), ObjectId('674df915845d7125c2d2c551'), ObjectId('674df915845d7125c2d2c552'), ObjectId('674df915845d7125c2d2c553'), ObjectId('674df915845d7125c2d2c554'), ObjectId('674df915845d7125c2d2c555'), ObjectId('674df915845d7125c2d2c556'), ObjectId('674df915845d7125c2d2c557'), ObjectId('674df915845d7125c2d2c558'), ObjectId('674df915845d7125c2d2c559'), ObjectId('674df915845d7125c2d2c55a'), ObjectId('674df915845d7125c2d2c55b'), ObjectId('674df915845d7125c2d2c55c'), ObjectId('674df915845d7125c2d2c55d'), ObjectId('674df915845d7125c2d2c55e'), ObjectId('674df915845d7125c2d2c55f'), ObjectId('674df915845d7125c2d2c560'), ObjectId('674df915845d7125c2d2c561'), ObjectId('674df915845d7125c2d2c562'), ObjectId('674df915845d7125c2d2c563'), ObjectId('674df915845d7125c2d2c564'), ObjectId('674df915845d7125c2d2c565'), ObjectId('674df915845d7125c2d2c566'), ObjectId('674df915845d7125c2d2c567'), ObjectId('674df915845d7125c2d2c568'), ObjectId('674df915845d7125c2d2c569'), ObjectId('674df915845d7125c2d2c56a'), ObjectId('674df915845d7125c2d2c56b'), ObjectId('674df915845d7125c2d2c56c'), ObjectId('674df915845d7125c2d2c56d'), ObjectId('674df915845d7125c2d2c56e'), ObjectId('674df915845d7125c2d2c56f'), ObjectId('674df915845d7125c2d2c570'), ObjectId('674df915845d7125c2d2c571'), ObjectId('674df915845d7125c2d2c572'), ObjectId('674df915845d7125c2d2c573'), ObjectId('674df915845d7125c2d2c574'), ObjectId('674df915845d7125c2d2c575'), ObjectId('674df915845d7125c2d2c576'), ObjectId('674df915845d7125c2d2c577'), ObjectId('674df915845d7125c2d2c578'), ObjectId('674df915845d7125c2d2c579'), ObjectId('674df915845d7125c2d2c57a'), ObjectId('674df915845d7125c2d2c57b'), ObjectId('674df915845d7125c2d2c57c'), ObjectId('674df915845d7125c2d2c57d'), ObjectId('674df915845d7125c2d2c57e'), ObjectId('674df915845d7125c2d2c57f'), ObjectId('674df915845d7125c2d2c580'), ObjectId('674df915845d7125c2d2c581'), ObjectId('674df915845d7125c2d2c582'), ObjectId('674df915845d7125c2d2c583'), ObjectId('674df915845d7125c2d2c584'), ObjectId('674df915845d7125c2d2c585'), ObjectId('674df915845d7125c2d2c586'), ObjectId('674df915845d7125c2d2c587'), ObjectId('674df915845d7125c2d2c588'), ObjectId('674df915845d7125c2d2c589'), ObjectId('674df915845d7125c2d2c58a'), ObjectId('674df915845d7125c2d2c58b'), ObjectId('674df915845d7125c2d2c58c'), ObjectId('674df915845d7125c2d2c58d'), ObjectId('674df915845d7125c2d2c58e'), ObjectId('674df915845d7125c2d2c58f'), ObjectId('674df915845d7125c2d2c590'), ObjectId('674df915845d7125c2d2c591'), ObjectId('674df915845d7125c2d2c592'), ObjectId('674df915845d7125c2d2c593'), ObjectId('674df915845d7125c2d2c594'), ObjectId('674df915845d7125c2d2c595'), ObjectId('674df915845d7125c2d2c596'), ObjectId('674df915845d7125c2d2c597'), ObjectId('674df915845d7125c2d2c598'), ObjectId('674df915845d7125c2d2c599'), ObjectId('674df915845d7125c2d2c59a'), ObjectId('674df915845d7125c2d2c59b'), ObjectId('674df915845d7125c2d2c59c'), ObjectId('674df915845d7125c2d2c59d'), ObjectId('674df915845d7125c2d2c59e'), ObjectId('674df915845d7125c2d2c59f'), ObjectId('674df915845d7125c2d2c5a0'), ObjectId('674df915845d7125c2d2c5a1'), ObjectId('674df915845d7125c2d2c5a2'), ObjectId('674df915845d7125c2d2c5a3'), ObjectId('674df915845d7125c2d2c5a4'), ObjectId('674df915845d7125c2d2c5a5'), ObjectId('674df915845d7125c2d2c5a6'), ObjectId('674df915845d7125c2d2c5a7'), ObjectId('674df915845d7125c2d2c5a8'), ObjectId('674df915845d7125c2d2c5a9'), ObjectId('674df915845d7125c2d2c5aa'), ObjectId('674df915845d7125c2d2c5ab'), ObjectId('674df915845d7125c2d2c5ac'), ObjectId('674df915845d7125c2d2c5ad'), ObjectId('674df915845d7125c2d2c5ae'), ObjectId('674df915845d7125c2d2c5af'), ObjectId('674df915845d7125c2d2c5b0'), ObjectId('674df915845d7125c2d2c5b1'), ObjectId('674df915845d7125c2d2c5b2'), ObjectId('674df915845d7125c2d2c5b3'), ObjectId('674df915845d7125c2d2c5b4'), ObjectId('674df915845d7125c2d2c5b5'), ObjectId('674df915845d7125c2d2c5b6'), ObjectId('674df915845d7125c2d2c5b7'), ObjectId('674df915845d7125c2d2c5b8'), ObjectId('674df915845d7125c2d2c5b9'), ObjectId('674df915845d7125c2d2c5ba'), ObjectId('674df915845d7125c2d2c5bb'), ObjectId('674df915845d7125c2d2c5bc'), ObjectId('674df915845d7125c2d2c5bd'), ObjectId('674df915845d7125c2d2c5be'), ObjectId('674df915845d7125c2d2c5bf'), ObjectId('674df915845d7125c2d2c5c0'), ObjectId('674df915845d7125c2d2c5c1'), ObjectId('674df915845d7125c2d2c5c2'), ObjectId('674df915845d7125c2d2c5c3'), ObjectId('674df915845d7125c2d2c5c4'), ObjectId('674df915845d7125c2d2c5c5'), ObjectId('674df915845d7125c2d2c5c6'), ObjectId('674df915845d7125c2d2c5c7'), ObjectId('674df915845d7125c2d2c5c8'), ObjectId('674df915845d7125c2d2c5c9'), ObjectId('674df915845d7125c2d2c5ca'), ObjectId('674df915845d7125c2d2c5cb'), ObjectId('674df915845d7125c2d2c5cc'), ObjectId('674df915845d7125c2d2c5cd'), ObjectId('674df915845d7125c2d2c5ce'), ObjectId('674df915845d7125c2d2c5cf'), ObjectId('674df915845d7125c2d2c5d0'), ObjectId('674df915845d7125c2d2c5d1'), ObjectId('674df915845d7125c2d2c5d2'), ObjectId('674df915845d7125c2d2c5d3'), ObjectId('674df915845d7125c2d2c5d4'), ObjectId('674df915845d7125c2d2c5d5'), ObjectId('674df915845d7125c2d2c5d6'), ObjectId('674df915845d7125c2d2c5d7'), ObjectId('674df915845d7125c2d2c5d8'), ObjectId('674df915845d7125c2d2c5d9'), ObjectId('674df915845d7125c2d2c5da'), ObjectId('674df915845d7125c2d2c5db'), ObjectId('674df915845d7125c2d2c5dc'), ObjectId('674df915845d7125c2d2c5dd'), ObjectId('674df915845d7125c2d2c5de'), ObjectId('674df915845d7125c2d2c5df'), ObjectId('674df915845d7125c2d2c5e0'), ObjectId('674df915845d7125c2d2c5e1'), ObjectId('674df915845d7125c2d2c5e2'), ObjectId('674df915845d7125c2d2c5e3'), ObjectId('674df915845d7125c2d2c5e4'), ObjectId('674df915845d7125c2d2c5e5'), ObjectId('674df915845d7125c2d2c5e6'), ObjectId('674df915845d7125c2d2c5e7'), ObjectId('674df915845d7125c2d2c5e8'), ObjectId('674df915845d7125c2d2c5e9'), ObjectId('674df915845d7125c2d2c5ea'), ObjectId('674df915845d7125c2d2c5eb'), ObjectId('674df915845d7125c2d2c5ec'), ObjectId('674df915845d7125c2d2c5ed'), ObjectId('674df915845d7125c2d2c5ee'), ObjectId('674df915845d7125c2d2c5ef'), ObjectId('674df915845d7125c2d2c5f0'), ObjectId('674df915845d7125c2d2c5f1'), ObjectId('674df915845d7125c2d2c5f2'), ObjectId('674df915845d7125c2d2c5f3'), ObjectId('674df915845d7125c2d2c5f4'), ObjectId('674df915845d7125c2d2c5f5'), ObjectId('674df915845d7125c2d2c5f6'), ObjectId('674df915845d7125c2d2c5f7'), ObjectId('674df915845d7125c2d2c5f8'), ObjectId('674df915845d7125c2d2c5f9'), ObjectId('674df915845d7125c2d2c5fa'), ObjectId('674df915845d7125c2d2c5fb'), ObjectId('674df915845d7125c2d2c5fc'), ObjectId('674df915845d7125c2d2c5fd'), ObjectId('674df915845d7125c2d2c5fe'), ObjectId('674df915845d7125c2d2c5ff'), ObjectId('674df915845d7125c2d2c600'), ObjectId('674df915845d7125c2d2c601'), ObjectId('674df915845d7125c2d2c602'), ObjectId('674df915845d7125c2d2c603'), ObjectId('674df915845d7125c2d2c604'), ObjectId('674df915845d7125c2d2c605'), ObjectId('674df915845d7125c2d2c606'), ObjectId('674df915845d7125c2d2c607'), ObjectId('674df915845d7125c2d2c608'), ObjectId('674df915845d7125c2d2c609'), ObjectId('674df915845d7125c2d2c60a'), ObjectId('674df915845d7125c2d2c60b'), ObjectId('674df915845d7125c2d2c60c'), ObjectId('674df915845d7125c2d2c60d'), ObjectId('674df915845d7125c2d2c60e'), ObjectId('674df915845d7125c2d2c60f'), ObjectId('674df915845d7125c2d2c610'), ObjectId('674df915845d7125c2d2c611'), ObjectId('674df915845d7125c2d2c612'), ObjectId('674df915845d7125c2d2c613'), ObjectId('674df915845d7125c2d2c614'), ObjectId('674df915845d7125c2d2c615'), ObjectId('674df915845d7125c2d2c616'), ObjectId('674df915845d7125c2d2c617'), ObjectId('674df915845d7125c2d2c618'), ObjectId('674df915845d7125c2d2c619'), ObjectId('674df915845d7125c2d2c61a'), ObjectId('674df915845d7125c2d2c61b'), ObjectId('674df915845d7125c2d2c61c'), ObjectId('674df915845d7125c2d2c61d'), ObjectId('674df915845d7125c2d2c61e'), ObjectId('674df915845d7125c2d2c61f'), ObjectId('674df915845d7125c2d2c620'), ObjectId('674df915845d7125c2d2c621'), ObjectId('674df915845d7125c2d2c622'), ObjectId('674df915845d7125c2d2c623'), ObjectId('674df915845d7125c2d2c624'), ObjectId('674df915845d7125c2d2c625'), ObjectId('674df915845d7125c2d2c626'), ObjectId('674df915845d7125c2d2c627'), ObjectId('674df915845d7125c2d2c628'), ObjectId('674df915845d7125c2d2c629'), ObjectId('674df915845d7125c2d2c62a'), ObjectId('674df915845d7125c2d2c62b'), ObjectId('674df915845d7125c2d2c62c'), ObjectId('674df915845d7125c2d2c62d'), ObjectId('674df915845d7125c2d2c62e'), ObjectId('674df915845d7125c2d2c62f'), ObjectId('674df915845d7125c2d2c630'), ObjectId('674df915845d7125c2d2c631'), ObjectId('674df915845d7125c2d2c632'), ObjectId('674df915845d7125c2d2c633'), ObjectId('674df915845d7125c2d2c634'), ObjectId('674df915845d7125c2d2c635'), ObjectId('674df915845d7125c2d2c636'), ObjectId('674df915845d7125c2d2c637'), ObjectId('674df915845d7125c2d2c638'), ObjectId('674df915845d7125c2d2c639'), ObjectId('674df915845d7125c2d2c63a'), ObjectId('674df915845d7125c2d2c63b'), ObjectId('674df915845d7125c2d2c63c'), ObjectId('674df915845d7125c2d2c63d'), ObjectId('674df915845d7125c2d2c63e'), ObjectId('674df915845d7125c2d2c63f'), ObjectId('674df915845d7125c2d2c640'), ObjectId('674df915845d7125c2d2c641'), ObjectId('674df915845d7125c2d2c642'), ObjectId('674df915845d7125c2d2c643'), ObjectId('674df915845d7125c2d2c644'), ObjectId('674df915845d7125c2d2c645'), ObjectId('674df915845d7125c2d2c646'), ObjectId('674df915845d7125c2d2c647'), ObjectId('674df915845d7125c2d2c648'), ObjectId('674df915845d7125c2d2c649'), ObjectId('674df915845d7125c2d2c64a'), ObjectId('674df915845d7125c2d2c64b'), ObjectId('674df915845d7125c2d2c64c'), ObjectId('674df915845d7125c2d2c64d'), ObjectId('674df915845d7125c2d2c64e'), ObjectId('674df915845d7125c2d2c64f'), ObjectId('674df915845d7125c2d2c650'), ObjectId('674df915845d7125c2d2c651'), ObjectId('674df915845d7125c2d2c652'), ObjectId('674df915845d7125c2d2c653'), ObjectId('674df915845d7125c2d2c654'), ObjectId('674df915845d7125c2d2c655'), ObjectId('674df915845d7125c2d2c656'), ObjectId('674df915845d7125c2d2c657'), ObjectId('674df915845d7125c2d2c658'), ObjectId('674df915845d7125c2d2c659'), ObjectId('674df915845d7125c2d2c65a'), ObjectId('674df915845d7125c2d2c65b'), ObjectId('674df915845d7125c2d2c65c'), ObjectId('674df915845d7125c2d2c65d'), ObjectId('674df915845d7125c2d2c65e'), ObjectId('674df915845d7125c2d2c65f'), ObjectId('674df915845d7125c2d2c660')], acknowledged=True)"
      ]
     },
     "metadata": {},
     "output_type": "display_data"
    }
   ],
   "source": [
    "import pandas as pd\n",
    "# Subreddit to target\n",
    "subreddit_name = \"ADHD\"\n",
    "subreddit = reddit.subreddit(subreddit_name)\n",
    "posts = []\n",
    "\n",
    "Querykeywords=[\"self diagnosis\",\"self medication\"]\n",
    "\n",
    "for keyword in Querykeywords:\n",
    "    for sorting in sortingTechniques:\n",
    "        print(\"Searching for keyword:\", keyword, \"using sorting technique:\", sorting)\n",
    "        for post in subreddit.search(query=keyword,sort=sorting,syntax='cloudsearch',time_filter='all',limit=10000):# 'hot', 'new', or 'top' post    \n",
    "            datecreated=get_utc_time(post.created_utc)\n",
    "            year=datecreated.year\n",
    "            if(year>2019) and (r.sadd('reddit_posts', post.id)):\n",
    "                posts.append({\n",
    "                \"id\":post.id,\n",
    "                \"title\": post.title,\n",
    "                \"author\": str(post.author),\n",
    "                \"score\": post.score,\n",
    "                \"num_comments\": post.num_comments,\n",
    "                \"upvote_ratio\": post.upvote_ratio,\n",
    "                \"url\": post.url,\n",
    "                \"subreddit\": post.subreddit.display_name,\n",
    "                \"created_at\": post.created_utc,\n",
    "                \"self_text\": post.selftext, \n",
    "                \"searchQuery\":keyword,  \n",
    "            })\n",
    "        \n",
    "db.reddit_posts.insert_many(posts)\n",
    "          \n",
    "            \n",
    "    \n",
    "    \n",
    "\n"
   ]
  }
 ],
 "metadata": {
  "kernelspec": {
   "display_name": ".venv",
   "language": "python",
   "name": "python3"
  },
  "language_info": {
   "codemirror_mode": {
    "name": "ipython",
    "version": 3
   },
   "file_extension": ".py",
   "mimetype": "text/x-python",
   "name": "python",
   "nbconvert_exporter": "python",
   "pygments_lexer": "ipython3",
   "version": "3.12.3"
  }
 },
 "nbformat": 4,
 "nbformat_minor": 2
}
