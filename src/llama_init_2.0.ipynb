{
 "cells": [
  {
   "cell_type": "code",
   "execution_count": 4,
   "metadata": {},
   "outputs": [
    {
     "name": "stdout",
     "output_type": "stream",
     "text": [
      "Connected to MongoDB successfully!\n"
     ]
    }
   ],
   "source": [
    "import pandas as pd\n",
    "from pymongo import MongoClient\n",
    "from dotenv import load_dotenv\n",
    "\n",
    "\n",
    "# Load environment variables from .env file\n",
    "load_dotenv()\n",
    "mongo='127.0.0.1'\n",
    "\n",
    "try:\n",
    "    # Connect to MongoDB\n",
    "    myclient = MongoClient(\n",
    "                        \"mongodb://\"+mongo+\":27017/\",  \n",
    "                        username='admin',\n",
    "                        password='admin') #Mongo URI format\n",
    "    db=myclient['reddit']\n",
    "    print(\"Connected to MongoDB successfully!\")\n",
    "except Exception as e:\n",
    "    print(\"An error occurred while connecting to MongoDB:\", e)"
   ]
  },
  {
   "cell_type": "code",
   "execution_count": 5,
   "metadata": {},
   "outputs": [
    {
     "data": {
      "text/html": [
       "<div>\n",
       "<style scoped>\n",
       "    .dataframe tbody tr th:only-of-type {\n",
       "        vertical-align: middle;\n",
       "    }\n",
       "\n",
       "    .dataframe tbody tr th {\n",
       "        vertical-align: top;\n",
       "    }\n",
       "\n",
       "    .dataframe thead th {\n",
       "        text-align: right;\n",
       "    }\n",
       "</style>\n",
       "<table border=\"1\" class=\"dataframe\">\n",
       "  <thead>\n",
       "    <tr style=\"text-align: right;\">\n",
       "      <th></th>\n",
       "      <th>id</th>\n",
       "      <th>title</th>\n",
       "      <th>author</th>\n",
       "      <th>score</th>\n",
       "      <th>num_comments</th>\n",
       "      <th>upvote_ratio</th>\n",
       "      <th>url</th>\n",
       "      <th>subreddit</th>\n",
       "      <th>created_at</th>\n",
       "      <th>self_text</th>\n",
       "      <th>searchQuery</th>\n",
       "    </tr>\n",
       "  </thead>\n",
       "  <tbody>\n",
       "    <tr>\n",
       "      <th>0</th>\n",
       "      <td>1et3kj0</td>\n",
       "      <td>Diagnosed with Inattentive ADHD at 31. Explain...</td>\n",
       "      <td>amadnomad</td>\n",
       "      <td>392</td>\n",
       "      <td>107</td>\n",
       "      <td>0.98</td>\n",
       "      <td>https://www.reddit.com/r/ADHD/comments/1et3kj0...</td>\n",
       "      <td>ADHD</td>\n",
       "      <td>1.723749e+09</td>\n",
       "      <td>Please go out and get tested if you are still ...</td>\n",
       "      <td>adhd</td>\n",
       "    </tr>\n",
       "    <tr>\n",
       "      <th>1</th>\n",
       "      <td>1gk5ftv</td>\n",
       "      <td>Children with higher IQ scores were diagnosed ...</td>\n",
       "      <td>Pretend_Voice_3140</td>\n",
       "      <td>4499</td>\n",
       "      <td>466</td>\n",
       "      <td>0.99</td>\n",
       "      <td>https://www.reddit.com/r/ADHD/comments/1gk5ftv...</td>\n",
       "      <td>ADHD</td>\n",
       "      <td>1.730809e+09</td>\n",
       "      <td>A study was published in the [British Journal ...</td>\n",
       "      <td>adhd</td>\n",
       "    </tr>\n",
       "    <tr>\n",
       "      <th>2</th>\n",
       "      <td>1f0k9en</td>\n",
       "      <td>Reminder: If you made it to adulthood with lat...</td>\n",
       "      <td>Hipster-Deuxbag</td>\n",
       "      <td>7372</td>\n",
       "      <td>535</td>\n",
       "      <td>0.99</td>\n",
       "      <td>https://www.reddit.com/r/ADHD/comments/1f0k9en...</td>\n",
       "      <td>ADHD</td>\n",
       "      <td>1.724547e+09</td>\n",
       "      <td>We all know the statistics: 20,000 behavioral ...</td>\n",
       "      <td>adhd</td>\n",
       "    </tr>\n",
       "    <tr>\n",
       "      <th>3</th>\n",
       "      <td>1g7tbb2</td>\n",
       "      <td>What is the most adhd thing you have ever adhd’ed</td>\n",
       "      <td>FamiliarRadio9275</td>\n",
       "      <td>2102</td>\n",
       "      <td>1022</td>\n",
       "      <td>0.99</td>\n",
       "      <td>https://www.reddit.com/r/ADHD/comments/1g7tbb2...</td>\n",
       "      <td>ADHD</td>\n",
       "      <td>1.729409e+09</td>\n",
       "      <td>I laugh so hard when I look back at this memor...</td>\n",
       "      <td>adhd</td>\n",
       "    </tr>\n",
       "    <tr>\n",
       "      <th>4</th>\n",
       "      <td>1dy8uqs</td>\n",
       "      <td>I’m angry that no one recognized that I had AD...</td>\n",
       "      <td>thecynicalone26</td>\n",
       "      <td>3345</td>\n",
       "      <td>598</td>\n",
       "      <td>0.99</td>\n",
       "      <td>https://www.reddit.com/r/ADHD/comments/1dy8uqs...</td>\n",
       "      <td>ADHD</td>\n",
       "      <td>1.720445e+09</td>\n",
       "      <td>I just got diagnosed, and I’m 39.  My entire l...</td>\n",
       "      <td>adhd</td>\n",
       "    </tr>\n",
       "  </tbody>\n",
       "</table>\n",
       "</div>"
      ],
      "text/plain": [
       "        id                                              title  \\\n",
       "0  1et3kj0  Diagnosed with Inattentive ADHD at 31. Explain...   \n",
       "1  1gk5ftv  Children with higher IQ scores were diagnosed ...   \n",
       "2  1f0k9en  Reminder: If you made it to adulthood with lat...   \n",
       "3  1g7tbb2  What is the most adhd thing you have ever adhd’ed   \n",
       "4  1dy8uqs  I’m angry that no one recognized that I had AD...   \n",
       "\n",
       "               author  score  num_comments  upvote_ratio  \\\n",
       "0           amadnomad    392           107          0.98   \n",
       "1  Pretend_Voice_3140   4499           466          0.99   \n",
       "2     Hipster-Deuxbag   7372           535          0.99   \n",
       "3   FamiliarRadio9275   2102          1022          0.99   \n",
       "4     thecynicalone26   3345           598          0.99   \n",
       "\n",
       "                                                 url subreddit    created_at  \\\n",
       "0  https://www.reddit.com/r/ADHD/comments/1et3kj0...      ADHD  1.723749e+09   \n",
       "1  https://www.reddit.com/r/ADHD/comments/1gk5ftv...      ADHD  1.730809e+09   \n",
       "2  https://www.reddit.com/r/ADHD/comments/1f0k9en...      ADHD  1.724547e+09   \n",
       "3  https://www.reddit.com/r/ADHD/comments/1g7tbb2...      ADHD  1.729409e+09   \n",
       "4  https://www.reddit.com/r/ADHD/comments/1dy8uqs...      ADHD  1.720445e+09   \n",
       "\n",
       "                                           self_text searchQuery  \n",
       "0  Please go out and get tested if you are still ...        adhd  \n",
       "1  A study was published in the [British Journal ...        adhd  \n",
       "2  We all know the statistics: 20,000 behavioral ...        adhd  \n",
       "3  I laugh so hard when I look back at this memor...        adhd  \n",
       "4  I just got diagnosed, and I’m 39.  My entire l...        adhd  "
      ]
     },
     "execution_count": 5,
     "metadata": {},
     "output_type": "execute_result"
    }
   ],
   "source": [
    "#import\n",
    "posts_registered=[]\n",
    "query=db.reddit_posts.find({},{'_id':0})\n",
    "for el in query:\n",
    "    posts_registered.append(el)\n",
    "posts_registered_df=pd.DataFrame(posts_registered)\n",
    "posts_registered_df.head()"
   ]
  },
  {
   "cell_type": "code",
   "execution_count": 6,
   "metadata": {},
   "outputs": [
    {
     "data": {
      "text/html": [
       "<div>\n",
       "<style scoped>\n",
       "    .dataframe tbody tr th:only-of-type {\n",
       "        vertical-align: middle;\n",
       "    }\n",
       "\n",
       "    .dataframe tbody tr th {\n",
       "        vertical-align: top;\n",
       "    }\n",
       "\n",
       "    .dataframe thead th {\n",
       "        text-align: right;\n",
       "    }\n",
       "</style>\n",
       "<table border=\"1\" class=\"dataframe\">\n",
       "  <thead>\n",
       "    <tr style=\"text-align: right;\">\n",
       "      <th></th>\n",
       "      <th>id</th>\n",
       "      <th>title</th>\n",
       "      <th>author</th>\n",
       "      <th>score</th>\n",
       "      <th>num_comments</th>\n",
       "      <th>upvote_ratio</th>\n",
       "      <th>url</th>\n",
       "      <th>subreddit</th>\n",
       "      <th>created_at</th>\n",
       "      <th>self_text</th>\n",
       "      <th>searchQuery</th>\n",
       "      <th>prompt</th>\n",
       "    </tr>\n",
       "  </thead>\n",
       "  <tbody>\n",
       "    <tr>\n",
       "      <th>0</th>\n",
       "      <td>1et3kj0</td>\n",
       "      <td>Diagnosed with Inattentive ADHD at 31. Explain...</td>\n",
       "      <td>amadnomad</td>\n",
       "      <td>392</td>\n",
       "      <td>107</td>\n",
       "      <td>0.98</td>\n",
       "      <td>https://www.reddit.com/r/ADHD/comments/1et3kj0...</td>\n",
       "      <td>ADHD</td>\n",
       "      <td>1.723749e+09</td>\n",
       "      <td>Please go out and get tested if you are still ...</td>\n",
       "      <td>adhd</td>\n",
       "      <td>Diagnosed with Inattentive ADHD at 31. Explain...</td>\n",
       "    </tr>\n",
       "    <tr>\n",
       "      <th>1</th>\n",
       "      <td>1gk5ftv</td>\n",
       "      <td>Children with higher IQ scores were diagnosed ...</td>\n",
       "      <td>Pretend_Voice_3140</td>\n",
       "      <td>4499</td>\n",
       "      <td>466</td>\n",
       "      <td>0.99</td>\n",
       "      <td>https://www.reddit.com/r/ADHD/comments/1gk5ftv...</td>\n",
       "      <td>ADHD</td>\n",
       "      <td>1.730809e+09</td>\n",
       "      <td>A study was published in the [British Journal ...</td>\n",
       "      <td>adhd</td>\n",
       "      <td>Children with higher IQ scores were diagnosed ...</td>\n",
       "    </tr>\n",
       "    <tr>\n",
       "      <th>2</th>\n",
       "      <td>1f0k9en</td>\n",
       "      <td>Reminder: If you made it to adulthood with lat...</td>\n",
       "      <td>Hipster-Deuxbag</td>\n",
       "      <td>7372</td>\n",
       "      <td>535</td>\n",
       "      <td>0.99</td>\n",
       "      <td>https://www.reddit.com/r/ADHD/comments/1f0k9en...</td>\n",
       "      <td>ADHD</td>\n",
       "      <td>1.724547e+09</td>\n",
       "      <td>We all know the statistics: 20,000 behavioral ...</td>\n",
       "      <td>adhd</td>\n",
       "      <td>Reminder: If you made it to adulthood with lat...</td>\n",
       "    </tr>\n",
       "    <tr>\n",
       "      <th>3</th>\n",
       "      <td>1g7tbb2</td>\n",
       "      <td>What is the most adhd thing you have ever adhd’ed</td>\n",
       "      <td>FamiliarRadio9275</td>\n",
       "      <td>2102</td>\n",
       "      <td>1022</td>\n",
       "      <td>0.99</td>\n",
       "      <td>https://www.reddit.com/r/ADHD/comments/1g7tbb2...</td>\n",
       "      <td>ADHD</td>\n",
       "      <td>1.729409e+09</td>\n",
       "      <td>I laugh so hard when I look back at this memor...</td>\n",
       "      <td>adhd</td>\n",
       "      <td>What is the most adhd thing you have ever adhd...</td>\n",
       "    </tr>\n",
       "    <tr>\n",
       "      <th>4</th>\n",
       "      <td>1dy8uqs</td>\n",
       "      <td>I’m angry that no one recognized that I had AD...</td>\n",
       "      <td>thecynicalone26</td>\n",
       "      <td>3345</td>\n",
       "      <td>598</td>\n",
       "      <td>0.99</td>\n",
       "      <td>https://www.reddit.com/r/ADHD/comments/1dy8uqs...</td>\n",
       "      <td>ADHD</td>\n",
       "      <td>1.720445e+09</td>\n",
       "      <td>I just got diagnosed, and I’m 39.  My entire l...</td>\n",
       "      <td>adhd</td>\n",
       "      <td>I’m angry that no one recognized that I had AD...</td>\n",
       "    </tr>\n",
       "  </tbody>\n",
       "</table>\n",
       "</div>"
      ],
      "text/plain": [
       "        id                                              title  \\\n",
       "0  1et3kj0  Diagnosed with Inattentive ADHD at 31. Explain...   \n",
       "1  1gk5ftv  Children with higher IQ scores were diagnosed ...   \n",
       "2  1f0k9en  Reminder: If you made it to adulthood with lat...   \n",
       "3  1g7tbb2  What is the most adhd thing you have ever adhd’ed   \n",
       "4  1dy8uqs  I’m angry that no one recognized that I had AD...   \n",
       "\n",
       "               author  score  num_comments  upvote_ratio  \\\n",
       "0           amadnomad    392           107          0.98   \n",
       "1  Pretend_Voice_3140   4499           466          0.99   \n",
       "2     Hipster-Deuxbag   7372           535          0.99   \n",
       "3   FamiliarRadio9275   2102          1022          0.99   \n",
       "4     thecynicalone26   3345           598          0.99   \n",
       "\n",
       "                                                 url subreddit    created_at  \\\n",
       "0  https://www.reddit.com/r/ADHD/comments/1et3kj0...      ADHD  1.723749e+09   \n",
       "1  https://www.reddit.com/r/ADHD/comments/1gk5ftv...      ADHD  1.730809e+09   \n",
       "2  https://www.reddit.com/r/ADHD/comments/1f0k9en...      ADHD  1.724547e+09   \n",
       "3  https://www.reddit.com/r/ADHD/comments/1g7tbb2...      ADHD  1.729409e+09   \n",
       "4  https://www.reddit.com/r/ADHD/comments/1dy8uqs...      ADHD  1.720445e+09   \n",
       "\n",
       "                                           self_text searchQuery  \\\n",
       "0  Please go out and get tested if you are still ...        adhd   \n",
       "1  A study was published in the [British Journal ...        adhd   \n",
       "2  We all know the statistics: 20,000 behavioral ...        adhd   \n",
       "3  I laugh so hard when I look back at this memor...        adhd   \n",
       "4  I just got diagnosed, and I’m 39.  My entire l...        adhd   \n",
       "\n",
       "                                              prompt  \n",
       "0  Diagnosed with Inattentive ADHD at 31. Explain...  \n",
       "1  Children with higher IQ scores were diagnosed ...  \n",
       "2  Reminder: If you made it to adulthood with lat...  \n",
       "3  What is the most adhd thing you have ever adhd...  \n",
       "4  I’m angry that no one recognized that I had AD...  "
      ]
     },
     "execution_count": 6,
     "metadata": {},
     "output_type": "execute_result"
    }
   ],
   "source": [
    "posts_registered_df['prompt']=posts_registered_df['title']+'\\n'+posts_registered_df['self_text']\n",
    "posts_registered_df.head()"
   ]
  },
  {
   "cell_type": "code",
   "execution_count": 7,
   "metadata": {},
   "outputs": [
    {
     "data": {
      "text/plain": [
       "\"Diagnosed with Inattentive ADHD at 31. Explains so many things from my childhood.\\nPlease go out and get tested if you are still on the fence. I always assumed ADHD was only hyperactive. A lot of concerns about day dreaming, zoning out and inattentiveness came into play during my consult. I didn't even consider my lack of sleep being tied to ADHD. But now that I have a diagnoses, it explains quite a bit from my past. I wasn't just lazy and disorganized. \\n\\n  \\nAgain, please go get tested if you suspect anything.\""
      ]
     },
     "execution_count": 7,
     "metadata": {},
     "output_type": "execute_result"
    }
   ],
   "source": [
    "posts_registered_df['prompt'].iloc[0]"
   ]
  },
  {
   "cell_type": "markdown",
   "metadata": {},
   "source": [
    "Analyze the following Reddit post and extract the following features:\n",
    "- Sentiment: Is the sentiment of the post positive, negative, or neutral?\n",
    "- Topic: What are the main topic discussed in the post (do not put adhd I want someting more specific?\n",
    "- Personal experience shared? (Yes/No):\n",
    "- Mention of solutions? (Yes/No):\n",
    "-self diagnosis?\n",
    "-gendre of person?\n",
    "-self mediaction? \n",
    "→ If there is no clear mention put null and answer only in yes no to explanation required\n",
    "Post: \"Diagnosed with Inattentive ADHD at 31. Explains so many things from my childhood.\\nPlease go out and get tested if you are still on the fence. I always assumed ADHD was only hyperactive. A lot of concerns about day dreaming, zoning out and inattentiveness came into play during my consult. I didn't even consider my lack of sleep being tied to ADHD. But now that I have a diagnoses, it explains quite a bit from my past. I wasn't just lazy and disorganized. \\n\\n  \\nAgain, please go get tested if you suspect anything.\""
   ]
  },
  {
   "cell_type": "code",
   "execution_count": 1,
   "metadata": {},
   "outputs": [],
   "source": [
    "import pandas as pd\n",
    "from transformers import AutoTokenizer, AutoModelForCausalLM\n",
    "\n",
    "# Load your model\n",
    "model_path = \"./Llama-3.2-1B\"\n",
    "tokenizer = AutoTokenizer.from_pretrained(model_path)\n",
    "model = AutoModelForCausalLM.from_pretrained(model_path)\n",
    "\n",
    "\n",
    "# Set pad token ID to eos token ID if pad token ID is not set\n",
    "if tokenizer.pad_token_id is None:\n",
    "    tokenizer.pad_token_id = tokenizer.eos_token_id\n",
    "\n"
   ]
  },
  {
   "cell_type": "code",
   "execution_count": 9,
   "metadata": {},
   "outputs": [],
   "source": [
    "\n",
    "# Function to analyze a post and extract variables\n",
    "def extract_features(post_text):\n",
    "    prompt = f\"\"\"\n",
    "        \n",
    "\n",
    "        Analyze the following Reddit post and extract the following features:\n",
    "- Sentiment: Is the sentiment of the post positive, negative, or neutral?\n",
    "- Topic: What are the main topic discussed in the post (do not put adhd I want someting more specific?\n",
    "- Personal experience shared? (Yes/No):\n",
    "- Mention of solutions? (Yes/No):\n",
    "-self diagnosis?\n",
    "-gendre of person?\n",
    "-self mediaction? \n",
    "→ If there is no clear mention put null and answer only in yes no to explanation required\n",
    "Post: \"Diagnosed with Inattentive ADHD at 31. Explains so many things from my childhood.\\nPlease go out and get tested if you are still on the fence. I always assumed ADHD was only hyperactive. A lot of concerns about day dreaming, zoning out and inattentiveness came into play during my consult. I didn't even consider my lack of sleep being tied to ADHD. But now that I have a diagnoses, it explains quite a bit from my past. I wasn't just lazy and disorganized. \\n\\n  \\nAgain, please go get tested if you suspect anything.\"\n",
    "        \"\"\"\n",
    "\n",
    "\n",
    "    # Tokenize and generate response\n",
    "    inputs = tokenizer(prompt, return_tensors=\"pt\", truncation=True, padding=True)\n",
    "    outputs = model.generate(\n",
    "    input_ids=inputs[\"input_ids\"], \n",
    "    attention_mask=inputs[\"attention_mask\"], \n",
    "    max_length=500,  # Adjust max length to prevent truncation\n",
    "    num_beams=5,  # Use beam search for better responses\n",
    "    temperature=0.7,  # Lower for more focused answers\n",
    "    top_p=0.9,  # Nucleus sampling\n",
    "    pad_token_id=tokenizer.eos_token_id\n",
    ")\n",
    "\n",
    "    \n",
    "    input_ids = tokenizer(prompt, return_tensors=\"pt\").input_ids\n",
    "    print(f\"Token length: {input_ids.shape[1]}\")\n",
    "\n",
    "\n",
    "    # Decode and return response\n",
    "    response = tokenizer.decode(outputs[0], skip_special_tokens=True)\n",
    "    return response\n"
   ]
  },
  {
   "cell_type": "code",
   "execution_count": null,
   "metadata": {},
   "outputs": [],
   "source": [
    "\n",
    "# Apply the feature extraction function to all posts\n",
    "df[\"features\"] = df[\"prompt\"].apply(extract_features)\n",
    "\n",
    "# Optional: Parse the features into structured columns (next step)\n"
   ]
  },
  {
   "cell_type": "code",
   "execution_count": 1,
   "metadata": {},
   "outputs": [
    {
     "name": "stderr",
     "output_type": "stream",
     "text": [
      "/home/ysidhom/Documents/5IF/adhd_project/mental_health_disorders_analysis/.venv/lib/python3.12/site-packages/transformers/generation/configuration_utils.py:590: UserWarning: `do_sample` is set to `False`. However, `temperature` is set to `0.7` -- this flag is only used in sample-based generation modes. You should set `do_sample=True` or unset `temperature`.\n",
      "  warnings.warn(\n"
     ]
    },
    {
     "name": "stdout",
     "output_type": "stream",
     "text": [
      "Answer: PARIS\n",
      "\n",
      "Explanation: None\n",
      "Answer: PARIS\n",
      "\n",
      "Explanation: None\n"
     ]
    }
   ],
   "source": [
    "from transformers import AutoTokenizer, AutoModelForCausalLM\n",
    "\n",
    "# Load the tokenizer and model\n",
    "model_path = \"./Llama-3.2-1B\"\n",
    "tokenizer = AutoTokenizer.from_pretrained(model_path)\n",
    "model = AutoModelForCausalLM.from_pretrained(model_path)\n",
    "\n",
    "# Assign pad_token if not already set\n",
    "if tokenizer.pad_token is None:\n",
    "    tokenizer.pad_token = tokenizer.eos_token\n",
    "\n",
    "# Define the Reddit post\n",
    "post_text = \"I'm struggling with ADHD. It's hard to focus on tasks and get things done. Any advice would help!\"\n",
    "\n",
    "# Create the prompt\n",
    "prompt = f\"\"\"\n",
    "Question: What is the capital of France?\n",
    "Provide the answer in one word only:\n",
    "\n",
    "\"\"\"\n",
    "\n",
    "# Tokenize the input with padding\n",
    "inputs = tokenizer(prompt, return_tensors=\"pt\", padding=True, truncation=True)\n",
    "\n",
    "# Generate response\n",
    "output = model.generate(\n",
    "    input_ids=inputs[\"input_ids\"],\n",
    "    attention_mask=inputs[\"attention_mask\"],\n",
    "    max_length=300,\n",
    "    num_beams=5,\n",
    "    temperature=0.7,\n",
    "    no_repeat_ngram_size=2,\n",
    "    pad_token_id=tokenizer.pad_token_id\n",
    ")\n",
    "\n",
    "# Decode and print the response\n",
    "response = tokenizer.decode(output[0], skip_special_tokens=True)\n",
    "response = response[len(prompt):].strip()  # Remove the prompt part\n",
    "print(response)\n",
    "\n",
    "print(response)\n"
   ]
  },
  {
   "cell_type": "code",
   "execution_count": 11,
   "metadata": {},
   "outputs": [
    {
     "name": "stdout",
     "output_type": "stream",
     "text": [
      "Topic: \n",
      "Personal Experience Shared: Yes\n",
      "Mention of Solutions: No\n",
      "Self Diagnosis\n"
     ]
    }
   ],
   "source": [
    "from transformers import AutoTokenizer, AutoModelForCausalLM\n",
    "\n",
    "# Load the tokenizer and model\n",
    "model_path = \"./Llama-3.2-1B\"\n",
    "tokenizer = AutoTokenizer.from_pretrained(model_path)\n",
    "model = AutoModelForCausalLM.from_pretrained(model_path)\n",
    "\n",
    "# Assign pad_token if not already set\n",
    "if tokenizer.pad_token is None:\n",
    "    tokenizer.pad_token = tokenizer.eos_token\n",
    "\n",
    "# Define the prompt\n",
    "prompt = \"\"\"\n",
    "Analyze the following Reddit post and extract the following features:\n",
    "- Sentiment: Is the sentiment of the post positive, negative, or neutral?\n",
    "- Topic: What are the main topic discussed in the post (do not put adhd I want someting more specific?\n",
    "- Personal experience shared? (Yes/No):\n",
    "- Mention of solutions? (Yes/No):\n",
    "-self diagnosis?\n",
    "-gendre of person?\n",
    "-self mediaction? \n",
    "→ If there is no clear mention put null and answer only in yes no to explanation required\n",
    "Post: \"Diagnosed with Inattentive ADHD at 31. Explains so many things from my childhood.\\nPlease go out and get tested if you are still on the fence. I always assumed ADHD was only hyperactive. A lot of concerns about day dreaming, zoning out and inattentiveness came into play during my consult. I didn't even consider my lack of sleep being tied to ADHD. But now that I have a diagnoses, it explains quite a bit from my past. I wasn't just lazy and disorganized. \\n\\n  \\nAgain, please go get tested if you suspect anything.\"\n",
    "\"\"\"\n",
    "# Tokenize the input with padding\n",
    "inputs = tokenizer(prompt, return_tensors=\"pt\", padding=True, truncation=True)\n",
    "\n",
    "# Generate response\n",
    "output = model.generate(\n",
    "    input_ids=inputs[\"input_ids\"],\n",
    "    attention_mask=inputs[\"attention_mask\"],\n",
    "    max_length=250,\n",
    "    num_beams=5,\n",
    "    no_repeat_ngram_size=2,\n",
    "    pad_token_id=tokenizer.pad_token_id\n",
    ")\n",
    "\n",
    "# Decode the response and remove the prompt\n",
    "response = tokenizer.decode(output[0], skip_special_tokens=True)\n",
    "response = response[len(prompt):].strip()  # Extract only the generated response\n",
    "print(response)\n",
    "\n"
   ]
  },
  {
   "cell_type": "markdown",
   "metadata": {},
   "source": [
    "### Fine Tunning the Model \n"
   ]
  },
  {
   "cell_type": "code",
   "execution_count": 2,
   "metadata": {},
   "outputs": [],
   "source": [
    "from datasets import load_dataset\n",
    "\n",
    "# Load Reddit dataset (example: pushshift dataset)\n",
    "dataset = load_dataset(\"jsfactory/mental_health_reddit_posts\")"
   ]
  },
  {
   "cell_type": "code",
   "execution_count": 3,
   "metadata": {},
   "outputs": [],
   "source": [
    "dataset# Split into train and eval (80% for training, 20% for evaluation)\n",
    "train_test_split = dataset['train'].train_test_split(test_size=0.2, seed=42)\n",
    "train_dataset = train_test_split['train']\n",
    "eval_dataset = train_test_split['test']\n"
   ]
  },
  {
   "cell_type": "code",
   "execution_count": 4,
   "metadata": {},
   "outputs": [
    {
     "data": {
      "application/vnd.jupyter.widget-view+json": {
       "model_id": "7af9e8284c554fe79d7cc5ba1076ea66",
       "version_major": 2,
       "version_minor": 0
      },
      "text/plain": [
       "Map:   0%|          | 0/4800 [00:00<?, ? examples/s]"
      ]
     },
     "metadata": {},
     "output_type": "display_data"
    }
   ],
   "source": [
    "def preprocess_data(example):\n",
    "    return tokenizer(\n",
    "        example[\"body\"],  # Replace \"body\" with the field containing the Reddit post\n",
    "        truncation=True,\n",
    "        padding=\"max_length\",\n",
    "        max_length=512,  # Adjust based on LLaMA's context length\n",
    "    )\n",
    "\n",
    "# Map the preprocessing function to the dataset\n",
    "tokenizer = AutoTokenizer.from_pretrained(model_path)\n",
    "tokenizer.pad_token = tokenizer.eos_token  # Set padding token if not defined\n",
    "\n",
    "\n",
    "train_dataset = train_dataset.map(preprocess_data, batched=True)\n",
    "eval_dataset = eval_dataset.map(preprocess_data, batched=True)\n"
   ]
  },
  {
   "cell_type": "code",
   "execution_count": 5,
   "metadata": {},
   "outputs": [
    {
     "data": {
      "text/plain": [
       "Embedding(128256, 2048)"
      ]
     },
     "execution_count": 5,
     "metadata": {},
     "output_type": "execute_result"
    }
   ],
   "source": [
    "from transformers import AutoModelForCausalLM\n",
    "\n",
    "# Load your LLaMA model\n",
    "model = AutoModelForCausalLM.from_pretrained(model_path)\n",
    "model.resize_token_embeddings(len(tokenizer))  # Adjust token embeddings if vocabulary changes\n"
   ]
  },
  {
   "cell_type": "code",
   "execution_count": 6,
   "metadata": {},
   "outputs": [],
   "source": [
    "# Define training arguments\n",
    "from transformers import TrainingArguments\n",
    "\n",
    "training_args = TrainingArguments(\n",
    "    output_dir=\"./fine_tuned_llama\",  # Output directory for model checkpoints\n",
    "    eval_strategy=\"epoch\",  # Evaluate at the end of each epoch\n",
    "    learning_rate=2e-5,\n",
    "    per_device_train_batch_size=8,\n",
    "    num_train_epochs=3,\n",
    "    save_strategy=\"epoch\",  # Save model after each epoch\n",
    "    save_total_limit=2,  # Limit to two model checkpoints\n",
    ")\n"
   ]
  },
  {
   "cell_type": "code",
   "execution_count": null,
   "metadata": {},
   "outputs": [
    {
     "data": {
      "application/vnd.jupyter.widget-view+json": {
       "model_id": "143da289a9854095be36b5d2f4a649c0",
       "version_major": 2,
       "version_minor": 0
      },
      "text/plain": [
       "  0%|          | 0/7200 [00:00<?, ?it/s]"
      ]
     },
     "metadata": {},
     "output_type": "display_data"
    }
   ],
   "source": [
    "\n",
    "# Initialize the Trainer\n",
    "from transformers import AutoModelForCausalLM, AutoTokenizer, Trainer, TrainingArguments, DataCollatorWithPadding\n",
    "\n",
    "# Create a DataCollator\n",
    "data_collator = DataCollatorWithPadding(tokenizer=tokenizer)\n",
    "\n",
    "trainer = Trainer(\n",
    "    model=model,\n",
    "    args=training_args,\n",
    "    train_dataset=train_dataset,\n",
    "    eval_dataset=eval_dataset,  # Pass the eval dataset here\n",
    "    data_collator=data_collator,\n",
    ")\n",
    "\n",
    "# Start training\n",
    "trainer.train()\n"
   ]
  }
 ],
 "metadata": {
  "kernelspec": {
   "display_name": ".venv",
   "language": "python",
   "name": "python3"
  },
  "language_info": {
   "codemirror_mode": {
    "name": "ipython",
    "version": 3
   },
   "file_extension": ".py",
   "mimetype": "text/x-python",
   "name": "python",
   "nbconvert_exporter": "python",
   "pygments_lexer": "ipython3",
   "version": "3.12.3"
  }
 },
 "nbformat": 4,
 "nbformat_minor": 2
}
